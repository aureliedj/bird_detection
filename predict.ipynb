{
 "cells": [
  {
   "cell_type": "code",
   "execution_count": 3,
   "metadata": {},
   "outputs": [],
   "source": [
    "import os\n",
    "import torch\n",
    "import torchvision\n",
    "from tqdm import tqdm\n",
    "import cv2\n",
    "import numpy as np\n",
    "import pandas as pd\n",
    "import matplotlib.pyplot as plt\n",
    "import matplotlib.patches as patches\n",
    "from pycocotools.coco import COCO\n",
    "from glob import glob\n",
    "from datetime import datetime\n",
    "\n",
    "from utils import get_temp_model, tempPredictDataset, IoU, clean_box, get_birds, plot_box, getDF\n",
    "from utils import getListImg, cropImg, StreamArgs, getFrames, tempPredictVideo"
   ]
  },
  {
   "cell_type": "code",
   "execution_count": 4,
   "metadata": {},
   "outputs": [],
   "source": [
    "torch.cuda.empty_cache()\n",
    "\n",
    "def get_transform():\n",
    "    custom_transforms = []\n",
    "    custom_transforms.append(torchvision.transforms.ToTensor())\n",
    "    return torchvision.transforms.Compose(custom_transforms)\n",
    "\n",
    "# collate_fn needs for batch\n",
    "def collate_fn(batch):\n",
    "    return tuple(zip(*batch))\n",
    "\n",
    "n_batch = 4\n",
    "num_classes = 2\n",
    "\n",
    "# select device (whether GPU or CPU)\n",
    "device = torch.device('cuda') if torch.cuda.is_available() else torch.device('cpu')"
   ]
  },
  {
   "cell_type": "code",
   "execution_count": 5,
   "metadata": {},
   "outputs": [
    {
     "name": "stdout",
     "output_type": "stream",
     "text": [
      "... model loaded.\n"
     ]
    }
   ],
   "source": [
    "model = get_temp_model(num_classes)\n",
    "model.load_state_dict(torch.load(os.getcwd() + '/../models/bird_detection/outputs/models/output_model_temp_full_v0.pt')['model']) #if only CPU available \n",
    "model = model.to(device)\n",
    "model.eval()\n",
    "print('... model loaded.')"
   ]
  },
  {
   "cell_type": "code",
   "execution_count": 8,
   "metadata": {},
   "outputs": [],
   "source": [
    "root_path = os.getcwd() + '/../data/birds/images'\n",
    "folders = glob(root_path + '/*')\n",
    "list_files = [glob(f + '/*')[0] for f in folders]\n",
    "\n",
    "dict_list = {i+1:[] for i in range(8)}\n",
    "for f in list_files:\n",
    "    dict_list[int(f.split('/')[-1][1])].append(f.split('/')[-2][:6])"
   ]
  },
  {
   "cell_type": "code",
   "execution_count": 9,
   "metadata": {},
   "outputs": [
    {
     "data": {
      "text/plain": [
       "{1: ['220429', '220507'],\n",
       " 2: ['220430', '220508'],\n",
       " 3: ['220501', '220503', '220509'],\n",
       " 4: ['220502', '220510'],\n",
       " 5: ['220501', '220503', '220511'],\n",
       " 6: ['220504', '220511', '220512'],\n",
       " 7: ['220505', '220509', '220513'],\n",
       " 8: ['220506', '220507']}"
      ]
     },
     "execution_count": 9,
     "metadata": {},
     "output_type": "execute_result"
    }
   ],
   "source": [
    "dict_list"
   ]
  },
  {
   "cell_type": "code",
   "execution_count": 24,
   "metadata": {},
   "outputs": [
    {
     "name": "stdout",
     "output_type": "stream",
     "text": [
      "*************************\n",
      "Process camera 1\n",
      "*************************\n",
      "Video  0 / 2\n",
      "Load images...\n",
      "... done.\n"
     ]
    },
    {
     "name": "stderr",
     "output_type": "stream",
     "text": [
      " 33%|█████████████████████████████████████████████████████████████████████████████████████████████████████████████████████████████████████████████████████████████████████████████████████████████████████████████████████████████████████████████████████████████████████████████████████████████████████████████████████████████████▋                                                                                                                                                                                                                                                                                                                                                                                                                                                                                                                                                                                                                                                               | 78/233 [01:30<03:00,  1.16s/it]\n"
     ]
    },
    {
     "ename": "KeyboardInterrupt",
     "evalue": "",
     "output_type": "error",
     "traceback": [
      "\u001b[0;31m---------------------------------------------------------------------------\u001b[0m",
      "\u001b[0;31mKeyboardInterrupt\u001b[0m                         Traceback (most recent call last)",
      "\u001b[1;32m/home/azureuser/cloudfiles/code/Users/aurelie.dejong.agroscope/BirdsDetection/predict.ipynb Cell 9\u001b[0m in \u001b[0;36m<cell line: 4>\u001b[0;34m()\u001b[0m\n\u001b[1;32m     <a href='vscode-notebook-cell://amlext%2B2f737562736372697074696f6e732f37386234643566312d666361352d346166352d623638362d3334373437633631633230662f7265736f7572636547726f7570732f726573736f757263652d67726f75702d4368616e67696e732f70726f7669646572732f4d6963726f736f66742e4d616368696e654c6561726e696e6753657276696365732f776f726b7370616365732f776f726b73706163652d6368616e67696e732f636f6d70757465732f636f6d707574652d6770752d6368616e67696e73/home/azureuser/cloudfiles/code/Users/aurelie.dejong.agroscope/BirdsDetection/predict.ipynb#W5sdnNjb2RlLXJlbW90ZQ%3D%3D?line=34'>35</a>\u001b[0m \u001b[39mfor\u001b[39;00m data \u001b[39min\u001b[39;00m tqdm(dataloader):\n\u001b[1;32m     <a href='vscode-notebook-cell://amlext%2B2f737562736372697074696f6e732f37386234643566312d666361352d346166352d623638362d3334373437633631633230662f7265736f7572636547726f7570732f726573736f757263652d67726f75702d4368616e67696e732f70726f7669646572732f4d6963726f736f66742e4d616368696e654c6561726e696e6753657276696365732f776f726b7370616365732f776f726b73706163652d6368616e67696e732f636f6d70757465732f636f6d707574652d6770752d6368616e67696e73/home/azureuser/cloudfiles/code/Users/aurelie.dejong.agroscope/BirdsDetection/predict.ipynb#W5sdnNjb2RlLXJlbW90ZQ%3D%3D?line=36'>37</a>\u001b[0m     imgs, fns \u001b[39m=\u001b[39m data\n\u001b[0;32m---> <a href='vscode-notebook-cell://amlext%2B2f737562736372697074696f6e732f37386234643566312d666361352d346166352d623638362d3334373437633631633230662f7265736f7572636547726f7570732f726573736f757263652d67726f75702d4368616e67696e732f70726f7669646572732f4d6963726f736f66742e4d616368696e654c6561726e696e6753657276696365732f776f726b7370616365732f776f726b73706163652d6368616e67696e732f636f6d70757465732f636f6d707574652d6770752d6368616e67696e73/home/azureuser/cloudfiles/code/Users/aurelie.dejong.agroscope/BirdsDetection/predict.ipynb#W5sdnNjb2RlLXJlbW90ZQ%3D%3D?line=37'>38</a>\u001b[0m     imgs \u001b[39m=\u001b[39m \u001b[39mlist\u001b[39;49m(img\u001b[39m.\u001b[39;49mfloat()\u001b[39m.\u001b[39;49mto(device) \u001b[39mfor\u001b[39;49;00m img \u001b[39min\u001b[39;49;00m imgs)\n\u001b[1;32m     <a href='vscode-notebook-cell://amlext%2B2f737562736372697074696f6e732f37386234643566312d666361352d346166352d623638362d3334373437633631633230662f7265736f7572636547726f7570732f726573736f757263652d67726f75702d4368616e67696e732f70726f7669646572732f4d6963726f736f66742e4d616368696e654c6561726e696e6753657276696365732f776f726b7370616365732f776f726b73706163652d6368616e67696e732f636f6d70757465732f636f6d707574652d6770752d6368616e67696e73/home/azureuser/cloudfiles/code/Users/aurelie.dejong.agroscope/BirdsDetection/predict.ipynb#W5sdnNjb2RlLXJlbW90ZQ%3D%3D?line=38'>39</a>\u001b[0m     fns \u001b[39m=\u001b[39m \u001b[39mlist\u001b[39m(fns)\n\u001b[1;32m     <a href='vscode-notebook-cell://amlext%2B2f737562736372697074696f6e732f37386234643566312d666361352d346166352d623638362d3334373437633631633230662f7265736f7572636547726f7570732f726573736f757263652d67726f75702d4368616e67696e732f70726f7669646572732f4d6963726f736f66742e4d616368696e654c6561726e696e6753657276696365732f776f726b7370616365732f776f726b73706163652d6368616e67696e732f636f6d70757465732f636f6d707574652d6770752d6368616e67696e73/home/azureuser/cloudfiles/code/Users/aurelie.dejong.agroscope/BirdsDetection/predict.ipynb#W5sdnNjb2RlLXJlbW90ZQ%3D%3D?line=40'>41</a>\u001b[0m     pred \u001b[39m=\u001b[39m model(imgs)\n",
      "\u001b[1;32m/home/azureuser/cloudfiles/code/Users/aurelie.dejong.agroscope/BirdsDetection/predict.ipynb Cell 9\u001b[0m in \u001b[0;36m<genexpr>\u001b[0;34m(.0)\u001b[0m\n\u001b[1;32m     <a href='vscode-notebook-cell://amlext%2B2f737562736372697074696f6e732f37386234643566312d666361352d346166352d623638362d3334373437633631633230662f7265736f7572636547726f7570732f726573736f757263652d67726f75702d4368616e67696e732f70726f7669646572732f4d6963726f736f66742e4d616368696e654c6561726e696e6753657276696365732f776f726b7370616365732f776f726b73706163652d6368616e67696e732f636f6d70757465732f636f6d707574652d6770752d6368616e67696e73/home/azureuser/cloudfiles/code/Users/aurelie.dejong.agroscope/BirdsDetection/predict.ipynb#W5sdnNjb2RlLXJlbW90ZQ%3D%3D?line=34'>35</a>\u001b[0m \u001b[39mfor\u001b[39;00m data \u001b[39min\u001b[39;00m tqdm(dataloader):\n\u001b[1;32m     <a href='vscode-notebook-cell://amlext%2B2f737562736372697074696f6e732f37386234643566312d666361352d346166352d623638362d3334373437633631633230662f7265736f7572636547726f7570732f726573736f757263652d67726f75702d4368616e67696e732f70726f7669646572732f4d6963726f736f66742e4d616368696e654c6561726e696e6753657276696365732f776f726b7370616365732f776f726b73706163652d6368616e67696e732f636f6d70757465732f636f6d707574652d6770752d6368616e67696e73/home/azureuser/cloudfiles/code/Users/aurelie.dejong.agroscope/BirdsDetection/predict.ipynb#W5sdnNjb2RlLXJlbW90ZQ%3D%3D?line=36'>37</a>\u001b[0m     imgs, fns \u001b[39m=\u001b[39m data\n\u001b[0;32m---> <a href='vscode-notebook-cell://amlext%2B2f737562736372697074696f6e732f37386234643566312d666361352d346166352d623638362d3334373437633631633230662f7265736f7572636547726f7570732f726573736f757263652d67726f75702d4368616e67696e732f70726f7669646572732f4d6963726f736f66742e4d616368696e654c6561726e696e6753657276696365732f776f726b7370616365732f776f726b73706163652d6368616e67696e732f636f6d70757465732f636f6d707574652d6770752d6368616e67696e73/home/azureuser/cloudfiles/code/Users/aurelie.dejong.agroscope/BirdsDetection/predict.ipynb#W5sdnNjb2RlLXJlbW90ZQ%3D%3D?line=37'>38</a>\u001b[0m     imgs \u001b[39m=\u001b[39m \u001b[39mlist\u001b[39m(img\u001b[39m.\u001b[39;49mfloat()\u001b[39m.\u001b[39mto(device) \u001b[39mfor\u001b[39;00m img \u001b[39min\u001b[39;00m imgs)\n\u001b[1;32m     <a href='vscode-notebook-cell://amlext%2B2f737562736372697074696f6e732f37386234643566312d666361352d346166352d623638362d3334373437633631633230662f7265736f7572636547726f7570732f726573736f757263652d67726f75702d4368616e67696e732f70726f7669646572732f4d6963726f736f66742e4d616368696e654c6561726e696e6753657276696365732f776f726b7370616365732f776f726b73706163652d6368616e67696e732f636f6d70757465732f636f6d707574652d6770752d6368616e67696e73/home/azureuser/cloudfiles/code/Users/aurelie.dejong.agroscope/BirdsDetection/predict.ipynb#W5sdnNjb2RlLXJlbW90ZQ%3D%3D?line=38'>39</a>\u001b[0m     fns \u001b[39m=\u001b[39m \u001b[39mlist\u001b[39m(fns)\n\u001b[1;32m     <a href='vscode-notebook-cell://amlext%2B2f737562736372697074696f6e732f37386234643566312d666361352d346166352d623638362d3334373437633631633230662f7265736f7572636547726f7570732f726573736f757263652d67726f75702d4368616e67696e732f70726f7669646572732f4d6963726f736f66742e4d616368696e654c6561726e696e6753657276696365732f776f726b7370616365732f776f726b73706163652d6368616e67696e732f636f6d70757465732f636f6d707574652d6770752d6368616e67696e73/home/azureuser/cloudfiles/code/Users/aurelie.dejong.agroscope/BirdsDetection/predict.ipynb#W5sdnNjb2RlLXJlbW90ZQ%3D%3D?line=40'>41</a>\u001b[0m     pred \u001b[39m=\u001b[39m model(imgs)\n",
      "\u001b[0;31mKeyboardInterrupt\u001b[0m: "
     ]
    }
   ],
   "source": [
    "output_df = pd.DataFrame(columns = ['date', 'heure', 'methode', 'abondance', 'sous-semis', 'J_T', 'bois',\n",
    "       'arrosage', 'n°cam'])\n",
    "\n",
    "for j in range(8):\n",
    "    \n",
    "    c_num = j + 1\n",
    "    \n",
    "    print('*************************')\n",
    "    print('Process camera', c_num)\n",
    "    print('*************************')\n",
    "    \n",
    "    \n",
    "    # ITERATE over the different dates\n",
    "    for l, date in enumerate(dict_list[c_num]):\n",
    "        \n",
    "        paths = glob(root_path + '/' + date +'*/*.png')\n",
    "        print('Video ', l+1, '/', len(dict_list[c_num]))\n",
    "        \n",
    "        out_fns = [paths[0].split('/')[-1][:9] + date , paths[930].split('/')[-1][:9] + date]\n",
    "\n",
    "        print('Load images...')\n",
    "        \n",
    "        img_list = [[cv2.imread(p1) for p1 in paths[:930]], [cv2.imread(p2) for p2 in paths[930:]]]\n",
    "        \n",
    "        print('... done.')\n",
    "\n",
    "        # ITERATE for left and right side: i\n",
    "        ds = tempPredictVideo(img_list[0], out_fns[0], get_transform())\n",
    "        dataloader = torch.utils.data.DataLoader(ds,\n",
    "                        batch_size = n_batch,\n",
    "                        shuffle = False,\n",
    "                        num_workers = 6,\n",
    "                        collate_fn = collate_fn)\n",
    "\n",
    "        for data in tqdm(dataloader):\n",
    "        \n",
    "            imgs, fns = data\n",
    "            imgs = list(img.float().to(device) for img in imgs)\n",
    "            fns = list(fns)\n",
    "                \n",
    "            pred = model(imgs)\n",
    "                \n",
    "            # keep predictions of scores higher than 0.6\n",
    "            boxes = []\n",
    "            for j, p in enumerate(pred):\n",
    "                cond = p['scores'] > 0.6\n",
    "                boxes.append(p['boxes'][cond])\n",
    "                    \n",
    "            # remove boxes prediction that overlap more than 75%\n",
    "            clean_boxes = clean_box(boxes)\n",
    "                \n",
    "            # save all information in dataframe\n",
    "            df = getDF(clean_boxes, fns)\n",
    "            output_df = output_df.append(df)\n",
    "                \n",
    "        output_df.to_csv('metrics_cameras_test.csv', index = False)"
   ]
  },
  {
   "attachments": {},
   "cell_type": "markdown",
   "metadata": {},
   "source": [
    "# Visualize"
   ]
  },
  {
   "cell_type": "code",
   "execution_count": null,
   "metadata": {},
   "outputs": [],
   "source": [
    "for i in range(len(boxes)):\n",
    "    np_img = imgs[i][3:6].cpu().numpy().transpose(1,2,0)\n",
    "    np_box = boxes[i].cpu().detach().numpy()\n",
    "    \n",
    "    # plot images where birds were detected\n",
    "    if len(np_box) != 0:\n",
    "        plot_box(np_img, np_box)"
   ]
  },
  {
   "cell_type": "code",
   "execution_count": null,
   "metadata": {},
   "outputs": [],
   "source": []
  }
 ],
 "metadata": {
  "kernelspec": {
   "display_name": "azureml_py38",
   "language": "python",
   "name": "python3"
  },
  "language_info": {
   "codemirror_mode": {
    "name": "ipython",
    "version": 3
   },
   "file_extension": ".py",
   "mimetype": "text/x-python",
   "name": "python",
   "nbconvert_exporter": "python",
   "pygments_lexer": "ipython3",
   "version": "3.8.5"
  },
  "orig_nbformat": 4,
  "vscode": {
   "interpreter": {
    "hash": "6d65a8c07f5b6469e0fc613f182488c0dccce05038bbda39e5ac9075c0454d11"
   }
  }
 },
 "nbformat": 4,
 "nbformat_minor": 2
}
