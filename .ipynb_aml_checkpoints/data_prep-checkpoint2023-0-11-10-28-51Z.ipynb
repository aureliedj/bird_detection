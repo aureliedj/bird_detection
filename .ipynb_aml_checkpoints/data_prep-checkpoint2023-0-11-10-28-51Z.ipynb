{
  "cells": [
    {
      "cell_type": "code",
      "source": [
        "from glob import glob\r\n",
        "import labelme2coco\r\n",
        "import os\r\n",
        "import shutil\r\n",
        "from tqdm import tqdm"
      ],
      "outputs": [],
      "execution_count": 9,
      "metadata": {
        "gather": {
          "logged": 1673427704653
        }
      }
    },
    {
      "cell_type": "markdown",
      "source": [
        "### Clean data annotations\r\n",
        "\r\n",
        "Move all the annotations file to one folder"
      ],
      "metadata": {
        "nteract": {
          "transient": {
            "deleting": false
          }
        }
      }
    },
    {
      "cell_type": "code",
      "source": [
        "data_folders = glob(os.getcwd() + '/../data/birds/annotations/all/*')\r\n",
        "data_files = glob(os.getcwd() + '/../data/birds/annotations/22*/*')\r\n",
        "len(data_folders), len(data_files)"
      ],
      "outputs": [
        {
          "output_type": "execute_result",
          "execution_count": 51,
          "data": {
            "text/plain": "(2194, 2194)"
          },
          "metadata": {}
        }
      ],
      "execution_count": 51,
      "metadata": {
        "jupyter": {
          "source_hidden": false,
          "outputs_hidden": false
        },
        "nteract": {
          "transient": {
            "deleting": false
          }
        },
        "gather": {
          "logged": 1673429400780
        }
      }
    },
    {
      "cell_type": "code",
      "source": [
        "def CopyAnno(data_files, data_folders):\r\n",
        "\r\n",
        "    out_fns = [f.split('/')[-1] for f in data_folders]\r\n",
        "    out_dir = os.getcwd() + '/../data/birds/annotations/all'\r\n",
        "    n = 0\r\n",
        "\r\n",
        "    for p in tqdm(data_files):\r\n",
        "        in_fn = p.split('/')[-1]\r\n",
        "        if in_fn not in out_fns:\r\n",
        "            n += 1\r\n",
        "            shutil.copy(p, out_dir)\r\n",
        "    if n!=0:\r\n",
        "        print('Done copying', n, ' files.')\r\n",
        "    else:\r\n",
        "        print('No files copied.')"
      ],
      "outputs": [],
      "execution_count": 21,
      "metadata": {
        "jupyter": {
          "source_hidden": false,
          "outputs_hidden": false
        },
        "nteract": {
          "transient": {
            "deleting": false
          }
        },
        "gather": {
          "logged": 1673428202713
        }
      }
    },
    {
      "cell_type": "markdown",
      "source": [
        "Convert filepaths to apply labelme2coco functions"
      ],
      "metadata": {
        "nteract": {
          "transient": {
            "deleting": false
          }
        }
      }
    },
    {
      "cell_type": "code",
      "source": [
        "import json \r\n",
        "\r\n",
        "data_folders = glob(os.getcwd() + '/../data/birds/annotations/all/*')\r\n",
        "\r\n",
        "for d in tqdm(data_folders):\r\n",
        "    with open(d, \"r\") as f:\r\n",
        "        anno_json = json.load(f)\r\n",
        "        anno_json['imagePath'] = anno_json['imagePath'].replace('\\\\','/')\r\n",
        "\r\n",
        "    with open(d, \"w\") as f:\r\n",
        "        json_string = json.dumps(anno_json)\r\n",
        "        f.write(json_string)"
      ],
      "outputs": [
        {
          "output_type": "stream",
          "name": "stderr",
          "text": "100%|██████████| 2194/2194 [03:33<00:00, 10.25it/s]\n"
        }
      ],
      "execution_count": 57,
      "metadata": {
        "jupyter": {
          "source_hidden": false,
          "outputs_hidden": false
        },
        "nteract": {
          "transient": {
            "deleting": false
          }
        },
        "gather": {
          "logged": 1673430175697
        }
      }
    },
    {
      "cell_type": "code",
      "source": [
        "# import functions\r\n",
        "from labelme2coco import get_coco_from_labelme_folder, save_json\r\n",
        "\r\n",
        "# set labelme training data directory\r\n",
        "labelme_folder = os.getcwd() + '/../data/birds/annotations/all'\r\n",
        "#labelme_folder = labelme_folder.replace(\"/\", \"\\\\\")\r\n",
        "\r\n",
        "# set path for coco json to be saved\r\n",
        "export_dir = os.getcwd() + '/../data/birds'\r\n",
        "\r\n",
        "# convert labelme annotations to coco\r\n",
        "out = get_coco_from_labelme_folder(labelme_folder)"
      ],
      "outputs": [
        {
          "output_type": "stream",
          "name": "stderr",
          "text": "Converting labelme annotations to COCO format: 100%|██████████| 2194/2194 [03:47<00:00,  9.63it/s]\n"
        }
      ],
      "execution_count": 58,
      "metadata": {
        "jupyter": {
          "source_hidden": false,
          "outputs_hidden": false
        },
        "nteract": {
          "transient": {
            "deleting": false
          }
        },
        "gather": {
          "logged": 1673430639786
        }
      }
    },
    {
      "cell_type": "code",
      "source": [],
      "outputs": [],
      "execution_count": null,
      "metadata": {
        "jupyter": {
          "source_hidden": false,
          "outputs_hidden": false
        },
        "nteract": {
          "transient": {
            "deleting": false
          }
        }
      }
    }
  ],
  "metadata": {
    "kernelspec": {
      "name": "python38-azureml",
      "language": "python",
      "display_name": "Python 3.8 - AzureML"
    },
    "language_info": {
      "name": "python",
      "version": "3.8.5",
      "mimetype": "text/x-python",
      "codemirror_mode": {
        "name": "ipython",
        "version": 3
      },
      "pygments_lexer": "ipython3",
      "nbconvert_exporter": "python",
      "file_extension": ".py"
    },
    "kernel_info": {
      "name": "python38-azureml"
    },
    "microsoft": {
      "host": {
        "AzureML": {
          "notebookHasBeenCompleted": true
        }
      }
    },
    "nteract": {
      "version": "nteract-front-end@1.0.0"
    }
  },
  "nbformat": 4,
  "nbformat_minor": 2
}