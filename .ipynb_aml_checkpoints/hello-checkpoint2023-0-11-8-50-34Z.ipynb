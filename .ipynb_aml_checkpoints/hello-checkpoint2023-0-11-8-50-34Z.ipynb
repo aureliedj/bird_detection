{
  "cells": [
    {
      "cell_type": "code",
      "source": [
        "from glob import glob\r\n",
        "import labelme2coco\r\n",
        "import os"
      ],
      "outputs": [],
      "execution_count": 4,
      "metadata": {
        "gather": {
          "logged": 1672227871199
        }
      }
    },
    {
      "cell_type": "code",
      "source": [
        "data_folders = glob(os.getcwd() + '/../data/birds/annotations/all/*')"
      ],
      "outputs": [],
      "execution_count": 11,
      "metadata": {
        "jupyter": {
          "source_hidden": false,
          "outputs_hidden": false
        },
        "nteract": {
          "transient": {
            "deleting": false
          }
        },
        "gather": {
          "logged": 1672227934203
        }
      }
    },
    {
      "cell_type": "code",
      "source": [
        "# import functions\r\n",
        "from labelme2coco import get_coco_from_labelme_folder, save_json\r\n",
        "\r\n",
        "# set labelme training data directory\r\n",
        "labelme_train_folder = os.getcwd() + '/../data/birds/annotations/all'\r\n",
        "\r\n",
        "# set path for coco json to be saved\r\n",
        "export_dir = os.getcwd() + '/../data/birds'\r\n",
        "\r\n",
        "# create train coco object\r\n",
        "train_coco = get_coco_from_labelme_folder(labelme_train_folder)\r\n",
        "\r\n",
        "# export train coco json\r\n",
        "save_json(train_coco.json, export_dir+\"train.json\")\r\n"
      ],
      "outputs": [],
      "execution_count": null,
      "metadata": {
        "jupyter": {
          "source_hidden": false,
          "outputs_hidden": false
        },
        "nteract": {
          "transient": {
            "deleting": false
          }
        }
      }
    },
    {
      "cell_type": "code",
      "source": [],
      "outputs": [],
      "execution_count": null,
      "metadata": {
        "jupyter": {
          "source_hidden": false,
          "outputs_hidden": false
        },
        "nteract": {
          "transient": {
            "deleting": false
          }
        }
      }
    }
  ],
  "metadata": {
    "kernelspec": {
      "name": "python38-azureml",
      "language": "python",
      "display_name": "Python 3.8 - AzureML"
    },
    "language_info": {
      "name": "python",
      "version": "3.8.5",
      "mimetype": "text/x-python",
      "codemirror_mode": {
        "name": "ipython",
        "version": 3
      },
      "pygments_lexer": "ipython3",
      "nbconvert_exporter": "python",
      "file_extension": ".py"
    },
    "kernel_info": {
      "name": "python38-azureml"
    },
    "microsoft": {
      "host": {
        "AzureML": {
          "notebookHasBeenCompleted": true
        }
      }
    },
    "nteract": {
      "version": "nteract-front-end@1.0.0"
    }
  },
  "nbformat": 4,
  "nbformat_minor": 2
}