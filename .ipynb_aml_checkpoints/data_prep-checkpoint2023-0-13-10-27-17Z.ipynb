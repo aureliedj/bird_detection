{
  "cells": [
    {
      "cell_type": "code",
      "source": [
        "from glob import glob\r\n",
        "import labelme2coco\r\n",
        "import os\r\n",
        "import shutil\r\n",
        "import json\r\n",
        "import numpy as np\r\n",
        "from tqdm import tqdm"
      ],
      "outputs": [],
      "execution_count": 1,
      "metadata": {
        "gather": {
          "logged": 1673594704919
        }
      }
    },
    {
      "cell_type": "markdown",
      "source": [
        "### Clean data annotations\r\n",
        "\r\n",
        "Move all the annotations file to one folder"
      ],
      "metadata": {
        "nteract": {
          "transient": {
            "deleting": false
          }
        }
      }
    },
    {
      "cell_type": "code",
      "source": [
        "data_folders = glob(os.getcwd() + '/../data/birds/annotations/all/*')\r\n",
        "data_files = glob(os.getcwd() + '/../data/birds/annotations/22*/*')\r\n",
        "len(data_folders), len(data_files)"
      ],
      "outputs": [],
      "execution_count": null,
      "metadata": {
        "jupyter": {
          "source_hidden": false,
          "outputs_hidden": false
        },
        "nteract": {
          "transient": {
            "deleting": false
          }
        },
        "gather": {
          "logged": 1673429400780
        }
      }
    },
    {
      "cell_type": "code",
      "source": [
        "def CopyAnno(data_files, data_folders):\r\n",
        "\r\n",
        "    out_fns = [f.split('/')[-1] for f in data_folders]\r\n",
        "    out_dir = os.getcwd() + '/../data/birds/annotations/all'\r\n",
        "    n = 0\r\n",
        "\r\n",
        "    for p in tqdm(data_files):\r\n",
        "        in_fn = p.split('/')[-1]\r\n",
        "        if in_fn not in out_fns:\r\n",
        "            n += 1\r\n",
        "            shutil.copy(p, out_dir)\r\n",
        "    if n!=0:\r\n",
        "        print('Done copying', n, ' files.')\r\n",
        "    else:\r\n",
        "        print('No files copied.')"
      ],
      "outputs": [],
      "execution_count": null,
      "metadata": {
        "jupyter": {
          "source_hidden": false,
          "outputs_hidden": false
        },
        "nteract": {
          "transient": {
            "deleting": false
          }
        },
        "gather": {
          "logged": 1673428202713
        }
      }
    },
    {
      "cell_type": "markdown",
      "source": [
        "Convert filepaths to apply labelme2coco functions"
      ],
      "metadata": {
        "nteract": {
          "transient": {
            "deleting": false
          }
        }
      }
    },
    {
      "cell_type": "code",
      "source": [
        "data_folders = glob(os.getcwd() + '/../data/birds/annotations/all/*')\r\n",
        "\r\n",
        "for d in tqdm(data_folders):\r\n",
        "    with open(d, \"r\") as f:\r\n",
        "        anno_json = json.load(f)\r\n",
        "        anno_json['imagePath'] = anno_json['imagePath'].replace('\\\\','/')\r\n",
        "\r\n",
        "    with open(d, \"w\") as f:\r\n",
        "        json_string = json.dumps(anno_json)\r\n",
        "        f.write(json_string)"
      ],
      "outputs": [],
      "execution_count": null,
      "metadata": {
        "jupyter": {
          "source_hidden": false,
          "outputs_hidden": false
        },
        "nteract": {
          "transient": {
            "deleting": false
          }
        },
        "gather": {
          "logged": 1673430175697
        }
      }
    },
    {
      "cell_type": "code",
      "source": [
        "# import functions\r\n",
        "from labelme2coco import get_coco_from_labelme_folder, save_json\r\n",
        "\r\n",
        "# set labelme training data directory\r\n",
        "labelme_folder = os.getcwd() + '/../data/birds/annotations/all'\r\n",
        "\r\n",
        "# convert labelme annotations to coco\r\n",
        "out = get_coco_from_labelme_folder(labelme_folder)"
      ],
      "outputs": [],
      "execution_count": null,
      "metadata": {
        "jupyter": {
          "source_hidden": false,
          "outputs_hidden": false
        },
        "nteract": {
          "transient": {
            "deleting": false
          }
        },
        "gather": {
          "logged": 1673433274932
        }
      }
    },
    {
      "cell_type": "code",
      "source": [
        "# set path for coco json to be saved\r\n",
        "export_dir = os.getcwd() + '/../data/birds/'\r\n",
        "\r\n",
        "# export train coco json\r\n",
        "save_json(out.json, export_dir + \"coco_annotations.json\")"
      ],
      "outputs": [],
      "execution_count": null,
      "metadata": {
        "jupyter": {
          "source_hidden": false,
          "outputs_hidden": false
        },
        "nteract": {
          "transient": {
            "deleting": false
          }
        },
        "gather": {
          "logged": 1673433297768
        }
      }
    },
    {
      "cell_type": "markdown",
      "source": [
        "## Data cleaning"
      ],
      "metadata": {
        "nteract": {
          "transient": {
            "deleting": false
          }
        }
      }
    },
    {
      "cell_type": "code",
      "source": [
        "path_in = os.getcwd() + '/../data/birds/annotations/coco_annotations.json'\r\n",
        "\r\n",
        "with open(path_in, \"r\") as f:\r\n",
        "    anno = json.load(f)\r\n"
      ],
      "outputs": [],
      "execution_count": 2,
      "metadata": {
        "jupyter": {
          "source_hidden": false,
          "outputs_hidden": false
        },
        "nteract": {
          "transient": {
            "deleting": false
          }
        },
        "gather": {
          "logged": 1673446128045
        }
      }
    },
    {
      "cell_type": "code",
      "source": [
        "anno.keys()"
      ],
      "outputs": [
        {
          "output_type": "execute_result",
          "execution_count": 4,
          "data": {
            "text/plain": "dict_keys(['images', 'annotations', 'categories'])"
          },
          "metadata": {}
        }
      ],
      "execution_count": 4,
      "metadata": {
        "jupyter": {
          "source_hidden": false,
          "outputs_hidden": false
        },
        "nteract": {
          "transient": {
            "deleting": false
          }
        },
        "gather": {
          "logged": 1673446142168
        }
      }
    },
    {
      "cell_type": "code",
      "source": [
        "anno['images'][0].keys()"
      ],
      "outputs": [
        {
          "output_type": "execute_result",
          "execution_count": 7,
          "data": {
            "text/plain": "dict_keys(['height', 'width', 'id', 'file_name'])"
          },
          "metadata": {}
        }
      ],
      "execution_count": 7,
      "metadata": {
        "jupyter": {
          "source_hidden": false,
          "outputs_hidden": false
        },
        "nteract": {
          "transient": {
            "deleting": false
          }
        },
        "gather": {
          "logged": 1673446168968
        }
      }
    },
    {
      "cell_type": "code",
      "source": [
        "anno['annotations'][0].keys()"
      ],
      "outputs": [
        {
          "output_type": "execute_result",
          "execution_count": 8,
          "data": {
            "text/plain": "dict_keys(['iscrowd', 'image_id', 'bbox', 'segmentation', 'category_id', 'id', 'area'])"
          },
          "metadata": {}
        }
      ],
      "execution_count": 8,
      "metadata": {
        "jupyter": {
          "source_hidden": false,
          "outputs_hidden": false
        },
        "nteract": {
          "transient": {
            "deleting": false
          }
        },
        "gather": {
          "logged": 1673446178060
        }
      }
    },
    {
      "cell_type": "code",
      "source": [
        "anno['categories']"
      ],
      "outputs": [
        {
          "output_type": "execute_result",
          "execution_count": 79,
          "data": {
            "text/plain": "[{'id': 0, 'name': 'bird', 'supercategory': 'bird'},\n {'id': 1, 'name': 'car', 'supercategory': 'car'},\n {'id': 2, 'name': 'dog', 'supercategory': 'dog'},\n {'id': 3, 'name': 'human', 'supercategory': 'human'}]"
          },
          "metadata": {}
        }
      ],
      "execution_count": 79,
      "metadata": {
        "jupyter": {
          "source_hidden": false,
          "outputs_hidden": false
        },
        "nteract": {
          "transient": {
            "deleting": false
          }
        },
        "gather": {
          "logged": 1673448448847
        }
      }
    },
    {
      "cell_type": "markdown",
      "source": [
        "Remove the images with annotations other than bird: 'car', 'dog', 'human'.\r\n",
        "\r\n",
        "    (1) find images containing the annotations\r\n",
        "    (2) find if birds are on these images\r\n",
        "    (3) remove the annotations"
      ],
      "metadata": {
        "nteract": {
          "transient": {
            "deleting": false
          }
        }
      }
    },
    {
      "cell_type": "code",
      "source": [
        "anno_id = [a['category_id'] for a in anno['annotations']]\r\n",
        "img_id = [a['image_id'] for a in anno['annotations']]"
      ],
      "outputs": [],
      "execution_count": 30,
      "metadata": {
        "jupyter": {
          "source_hidden": false,
          "outputs_hidden": false
        },
        "nteract": {
          "transient": {
            "deleting": false
          }
        },
        "gather": {
          "logged": 1673446690045
        }
      }
    },
    {
      "cell_type": "code",
      "source": [
        "cond = [a != 0 for a in anno_id]\r\n",
        "print('There are ', np.count_nonzero(cond), 'annotations not bird.')\r\n",
        "cat, count = np.unique(np.array(anno_id)[cond], return_counts=True)\r\n",
        "print('Other annotations of', count[0],'\"car\",', count[1],'\"dog\",', count [2],'\"human\".')\r\n",
        "\r\n",
        "img_id_other = np.array(img_id)[cond]\r\n",
        "print('Image IDs ', img_id_other)"
      ],
      "outputs": [
        {
          "output_type": "stream",
          "name": "stdout",
          "text": "There are  6 annotations not bird.\nOther annotations of 3 \"car\", 1 \"dog\", 2 \"human\".\nImage IDs  [ 295  296  778 1215 1216 1525]\n"
        }
      ],
      "execution_count": 53,
      "metadata": {
        "jupyter": {
          "source_hidden": false,
          "outputs_hidden": false
        },
        "nteract": {
          "transient": {
            "deleting": false
          }
        },
        "gather": {
          "logged": 1673447199751
        }
      }
    },
    {
      "cell_type": "code",
      "source": [
        "## Remove Annotations other than birds\r\n",
        "anno_list = [a for a in anno['annotations'] if a['category_id'] == 0]\r\n",
        "\r\n",
        "## Remove images containing no annotations\r\n",
        "img_ids = np.unique([a['image_id'] for a in anno_list])\r\n",
        "img_list = [a for a in anno['images'] if a['id'] in img_ids]"
      ],
      "outputs": [],
      "execution_count": 71,
      "metadata": {
        "jupyter": {
          "source_hidden": false,
          "outputs_hidden": false
        },
        "nteract": {
          "transient": {
            "deleting": false
          }
        },
        "gather": {
          "logged": 1673447932131
        }
      }
    },
    {
      "cell_type": "code",
      "source": [
        "len(anno['images']), len(img_list)"
      ],
      "outputs": [
        {
          "output_type": "execute_result",
          "execution_count": 73,
          "data": {
            "text/plain": "(2194, 2186)"
          },
          "metadata": {}
        }
      ],
      "execution_count": 73,
      "metadata": {
        "jupyter": {
          "source_hidden": false,
          "outputs_hidden": false
        },
        "nteract": {
          "transient": {
            "deleting": false
          }
        },
        "gather": {
          "logged": 1673447965035
        }
      }
    },
    {
      "cell_type": "code",
      "source": [
        "len(np.unique(img_ids)), len(np.unique(img_id))"
      ],
      "outputs": [
        {
          "output_type": "execute_result",
          "execution_count": 78,
          "data": {
            "text/plain": "(2186, 2191)"
          },
          "metadata": {}
        }
      ],
      "execution_count": 78,
      "metadata": {
        "jupyter": {
          "source_hidden": false,
          "outputs_hidden": false
        },
        "nteract": {
          "transient": {
            "deleting": false
          }
        },
        "gather": {
          "logged": 1673448040864
        }
      }
    },
    {
      "cell_type": "code",
      "source": [
        "anno['categories'][0]"
      ],
      "outputs": [
        {
          "output_type": "execute_result",
          "execution_count": 82,
          "data": {
            "text/plain": "{'id': 0, 'name': 'bird', 'supercategory': 'bird'}"
          },
          "metadata": {}
        }
      ],
      "execution_count": 82,
      "metadata": {
        "jupyter": {
          "source_hidden": false,
          "outputs_hidden": false
        },
        "nteract": {
          "transient": {
            "deleting": false
          }
        },
        "gather": {
          "logged": 1673448483692
        }
      }
    },
    {
      "cell_type": "code",
      "source": [
        "new_anno = {}\r\n",
        "new_anno['images'] = img_list\r\n",
        "new_anno['annotations'] = anno_list\r\n",
        "new_anno['categories'] = [{'id':0, 'name':'bird'}]"
      ],
      "outputs": [],
      "execution_count": 88,
      "metadata": {
        "jupyter": {
          "source_hidden": false,
          "outputs_hidden": false
        },
        "nteract": {
          "transient": {
            "deleting": false
          }
        },
        "gather": {
          "logged": 1673448692109
        }
      }
    },
    {
      "cell_type": "code",
      "source": [
        "with open(path_in, \"w\") as f:\r\n",
        "    json_string = json.dumps(new_anno)\r\n",
        "    f.write(json_string)"
      ],
      "outputs": [],
      "execution_count": 89,
      "metadata": {
        "jupyter": {
          "source_hidden": false,
          "outputs_hidden": false
        },
        "nteract": {
          "transient": {
            "deleting": false
          }
        },
        "gather": {
          "logged": 1673448693309
        }
      }
    },
    {
      "cell_type": "markdown",
      "source": [
        "# Create empty annotations\r\n",
        "\r\n",
        "sourche info create null anno: https://blog.roboflow.com/missing-and-null-image-annotations/\r\n",
        "\r\n",
        "source info distribution: https://towardsdatascience.com/the-practical-guide-for-object-detection-with-yolov5-algorithm-74c04aac4843"
      ],
      "metadata": {
        "nteract": {
          "transient": {
            "deleting": false
          }
        }
      }
    },
    {
      "cell_type": "code",
      "source": [
        "path_full= os.getcwd() + '/../data/birds/annotations/coco_annotations.json'\r\n",
        "path_test = os.getcwd() + '/../data/birds/annotations/coco_test_dataset.json'\r\n",
        "path_train = os.getcwd() + '/../data/birds/annotations/coco_train_dataset.json'\r\n",
        "path_val = os.getcwd() + '/../data/birds/annotations/coco_val_dataset.json'\r\n",
        "\r\n",
        "date_list = ['220430', '220508', '220502','220510']\r\n",
        "\r\n",
        "with open(path_full, \"r\") as f:\r\n",
        "    data = json.load(f)\r\n",
        "with open(path_test, \"r\") as f:\r\n",
        "    data_test = json.load(f)\r\n",
        "with open(path_train, \"r\") as f:\r\n",
        "    data_train = json.load(f)\r\n",
        "with open(path_val, \"r\") as f:\r\n",
        "    data_val = json.load(f)"
      ],
      "outputs": [],
      "execution_count": 207,
      "metadata": {
        "jupyter": {
          "source_hidden": false,
          "outputs_hidden": false
        },
        "nteract": {
          "transient": {
            "deleting": false
          }
        },
        "gather": {
          "logged": 1673605616213
        }
      }
    },
    {
      "cell_type": "code",
      "source": [
        "fns = [f['file_name'].split('/')[-1] for f in data['images']]\r\n",
        "last_id = data['images'][-1]['id']\r\n",
        "h_dict = {d['file_name'].split('/')[-1][:8]:d['height'] for d in data['images']}\r\n",
        "w_dict = {d['file_name'].split('/')[-1][:8]:d['width'] for d in data['images']}"
      ],
      "outputs": [],
      "execution_count": 208,
      "metadata": {
        "jupyter": {
          "source_hidden": false,
          "outputs_hidden": false
        },
        "nteract": {
          "transient": {
            "deleting": false
          }
        },
        "gather": {
          "logged": 1673605616842
        }
      }
    },
    {
      "cell_type": "code",
      "source": [
        "fns_all_paths = glob(os.getcwd() + '/../data/birds/images/22*/*.png')\r\n",
        "fns_all = [f.split('/')[-1] for f in fns_all_paths]\r\n",
        "fns_new = [f for f in fns_all if f not in fns]\r\n",
        "\r\n",
        "## select test dataset\r\n",
        "dates = [e.split('_')[-2] for e in fns_new]\r\n",
        "cond = [d in date_list for d in dates]\r\n",
        "\r\n",
        "## create new 'file_name'\r\n",
        "filenames = np.array(['../../'+f for f in fns_new])\r\n",
        "\r\n",
        "filenames_test = filenames[cond]\r\n",
        "np.random.shuffle(filenames_test)\r\n",
        "\r\n",
        "filenames_train = filenames[np.invert(cond)]\r\n",
        "np.random.shuffle(filenames_train)\r\n",
        "\r\n",
        "filenames_val = filenames_train[:-10000]\r\n",
        "\r\n",
        "filenames_train = filenames_train[:10000]"
      ],
      "outputs": [],
      "execution_count": 209,
      "metadata": {
        "jupyter": {
          "source_hidden": false,
          "outputs_hidden": false
        },
        "nteract": {
          "transient": {
            "deleting": false
          }
        },
        "gather": {
          "logged": 1673605619873
        }
      }
    },
    {
      "cell_type": "markdown",
      "source": [
        "Create 10% empty annotations."
      ],
      "metadata": {
        "nteract": {
          "transient": {
            "deleting": false
          }
        }
      }
    },
    {
      "cell_type": "code",
      "source": [
        "def empty_anno(data, fn_list, last_id, h_dict, w_dict, p):\r\n",
        "\r\n",
        "    num_anno = int(len(data['images'])*p/(1-p))\r\n",
        "    id_num = last_id\r\n",
        "\r\n",
        "    print('Creating ', num_anno, ' new empty annotations')\r\n",
        "    \r\n",
        "\r\n",
        "    for n in range(num_anno):\r\n",
        "\r\n",
        "        img_dict = {}\r\n",
        "        id_num += 1\r\n",
        "        ref = fn_list[n].split('/')[-1][:8]\r\n",
        "\r\n",
        "        img_dict['height'] = h_dict[ref]\r\n",
        "        img_dict['width'] = w_dict[ref]\r\n",
        "        img_dict['id'] = id_num\r\n",
        "        img_dict['file_name'] = fn_list[n]\r\n",
        "        \r\n",
        "        data['images'].append(img_dict)"
      ],
      "outputs": [],
      "execution_count": 210,
      "metadata": {
        "jupyter": {
          "source_hidden": false,
          "outputs_hidden": false
        },
        "nteract": {
          "transient": {
            "deleting": false
          }
        },
        "gather": {
          "logged": 1673605621131
        }
      }
    },
    {
      "cell_type": "code",
      "source": [
        "empty_anno(data_test, filenames_test, last_id, h_dict, w_dict, 0.2)\r\n",
        "\r\n",
        "last_id = data_test['images'][-1]['id']\r\n",
        "empty_anno(data_train, filenames_train, last_id, h_dict, w_dict, 0.2)\r\n",
        "\r\n",
        "last_id = data_train['images'][-1]['id']\r\n",
        "empty_anno(data_val, filenames_val, last_id, h_dict, w_dict, 0.2)"
      ],
      "outputs": [
        {
          "output_type": "stream",
          "name": "stdout",
          "text": "Creating  61  new empty annotations\nCreating  431  new empty annotations\nCreating  54  new empty annotations\n"
        }
      ],
      "execution_count": 211,
      "metadata": {
        "jupyter": {
          "source_hidden": false,
          "outputs_hidden": false
        },
        "nteract": {
          "transient": {
            "deleting": false
          }
        },
        "gather": {
          "logged": 1673605622409
        }
      }
    },
    {
      "cell_type": "code",
      "source": [
        "## save new datasets\r\n",
        "with open(os.getcwd() + '/../data/birds/annotations/full_coco_test.json', \"w\") as f:\r\n",
        "    json_string = json.dumps(data_test)\r\n",
        "    f.write(json_string)\r\n",
        "with open(os.getcwd() + '/../data/birds/annotations/full_coco_train.json', \"w\") as f:\r\n",
        "    json_string = json.dumps(data_train)\r\n",
        "    f.write(json_string)"
      ],
      "outputs": [],
      "execution_count": null,
      "metadata": {
        "jupyter": {
          "source_hidden": false,
          "outputs_hidden": false
        },
        "nteract": {
          "transient": {
            "deleting": false
          }
        }
      }
    }
  ],
  "metadata": {
    "kernelspec": {
      "name": "python38-azureml",
      "language": "python",
      "display_name": "Python 3.8 - AzureML"
    },
    "language_info": {
      "name": "python",
      "version": "3.8.5",
      "mimetype": "text/x-python",
      "codemirror_mode": {
        "name": "ipython",
        "version": 3
      },
      "pygments_lexer": "ipython3",
      "nbconvert_exporter": "python",
      "file_extension": ".py"
    },
    "kernel_info": {
      "name": "python38-azureml"
    },
    "microsoft": {
      "host": {
        "AzureML": {
          "notebookHasBeenCompleted": true
        }
      }
    },
    "nteract": {
      "version": "nteract-front-end@1.0.0"
    }
  },
  "nbformat": 4,
  "nbformat_minor": 2
}