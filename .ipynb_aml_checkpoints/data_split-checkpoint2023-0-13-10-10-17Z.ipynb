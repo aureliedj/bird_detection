{
  "cells": [
    {
      "cell_type": "markdown",
      "source": [
        "## Split dataset\r\n",
        "\r\n",
        "Testing dataset: Cam 2 at 220430 220508 & Cam 4 at 220502 & 220510"
      ],
      "metadata": {
        "nteract": {
          "transient": {
            "deleting": false
          }
        }
      }
    },
    {
      "cell_type": "code",
      "source": [
        "import os\r\n",
        "import numpy as np\r\n",
        "import pandas as pd\r\n",
        "import json "
      ],
      "outputs": [],
      "execution_count": 3,
      "metadata": {
        "jupyter": {
          "source_hidden": false,
          "outputs_hidden": false
        },
        "nteract": {
          "transient": {
            "deleting": false
          }
        },
        "gather": {
          "logged": 1673603246640
        }
      }
    },
    {
      "cell_type": "code",
      "source": [
        "root = os.getcwd() + '/../data/birds/annotations'\r\n",
        "pathin = root + '/coco_annotations.json'\r\n",
        "date_list = ['220430', '220508', '220502','220510']\r\n",
        "\r\n",
        "with open(pathin, \"r\") as f:\r\n",
        "    data = json.load(f)"
      ],
      "outputs": [],
      "execution_count": 4,
      "metadata": {
        "jupyter": {
          "source_hidden": false,
          "outputs_hidden": false
        },
        "nteract": {
          "transient": {
            "deleting": false
          }
        },
        "gather": {
          "logged": 1673603247541
        }
      }
    },
    {
      "cell_type": "code",
      "source": [
        "filenames = [i['file_name'].split('/')[-1] for i in data['images']]\r\n",
        "img_id = [i['id'] for i in data['images']]\r\n",
        "dates = [f.split('_')[-2] for f in filenames]\r\n",
        "cond = [d in date_list for d in dates]\r\n",
        "\r\n",
        "## retrieve image id\r\n",
        "test_img_id = np.array(img_id)[cond]\r\n",
        "train_img_id = np.array(img_id)[np.invert(cond)]\r\n",
        "\r\n",
        "def get_new_dataset(data, test_img_id):\r\n",
        "\r\n",
        "    img_list = [d for d in data['images'] if d['id'] in test_img_id]\r\n",
        "    anno_list = [d for d in data['annotations'] if d['image_id'] in test_img_id]\r\n",
        "\r\n",
        "    data_test = {}\r\n",
        "    data_test['images'] = img_list\r\n",
        "    data_test['annotations'] = anno_list\r\n",
        "    data_test['categories'] = data['categories']\r\n",
        "\r\n",
        "    return data_test\r\n",
        "\r\n",
        "## create new datasets\r\n",
        "data_test = get_new_dataset(data, test_img_id)\r\n",
        "data_train = get_new_dataset(data, train_img_id)"
      ],
      "outputs": [],
      "execution_count": 56,
      "metadata": {
        "jupyter": {
          "source_hidden": false,
          "outputs_hidden": false
        },
        "nteract": {
          "transient": {
            "deleting": false
          }
        },
        "gather": {
          "logged": 1673544558764
        }
      }
    },
    {
      "cell_type": "code",
      "source": [
        "## save new datasets\r\n",
        "with open(root + '/coco_test_dataset.json', \"w\") as f:\r\n",
        "    json_string = json.dumps(data_test)\r\n",
        "    f.write(json_string)"
      ],
      "outputs": [],
      "execution_count": 59,
      "metadata": {
        "jupyter": {
          "source_hidden": false,
          "outputs_hidden": false
        },
        "nteract": {
          "transient": {
            "deleting": false
          }
        },
        "gather": {
          "logged": 1673545115669
        }
      }
    },
    {
      "cell_type": "code",
      "source": [
        "with open(root + '/coco_train_dataset.json', \"w\") as f:\r\n",
        "    json_string = json.dumps(data_train)\r\n",
        "    f.write(json_string)"
      ],
      "outputs": [],
      "execution_count": 60,
      "metadata": {
        "jupyter": {
          "source_hidden": false,
          "outputs_hidden": false
        },
        "nteract": {
          "transient": {
            "deleting": false
          }
        },
        "gather": {
          "logged": 1673545120790
        }
      }
    },
    {
      "cell_type": "markdown",
      "source": [
        "Split Train/Validation"
      ],
      "metadata": {
        "nteract": {
          "transient": {
            "deleting": false
          }
        }
      }
    },
    {
      "cell_type": "code",
      "source": [
        "with open(root + '/coco_train_dataset.json', \"r\") as f:\r\n",
        "    data_train = json.load(f)"
      ],
      "outputs": [],
      "execution_count": 24,
      "metadata": {
        "jupyter": {
          "source_hidden": false,
          "outputs_hidden": false
        },
        "nteract": {
          "transient": {
            "deleting": false
          }
        },
        "gather": {
          "logged": 1673604306781
        }
      }
    },
    {
      "cell_type": "code",
      "source": [
        "num_val = int(len(data['images'])*0.1)\r\n",
        "train_id = [d['id'] for d in data_train['images']]\r\n",
        "np.random.shuffle(train_id)\r\n",
        "val_id = train_id[:num_val]\r\n",
        "id_left = train_id[num_val:]"
      ],
      "outputs": [],
      "execution_count": 25,
      "metadata": {
        "jupyter": {
          "source_hidden": false,
          "outputs_hidden": false
        },
        "nteract": {
          "transient": {
            "deleting": false
          }
        },
        "gather": {
          "logged": 1673604308377
        }
      }
    },
    {
      "cell_type": "code",
      "source": [
        "cond = [d in val_id for d in train_id]\r\n",
        "\r\n",
        "## create new image list\r\n",
        "img_val = list(np.array(data_train['images'])[cond])\r\n",
        "img_train = list(np.array(data_train['images'])[np.invert(cond)])\r\n",
        "\r\n",
        "## create new annotations list\r\n",
        "anno_val = [a for a in data_train['annotations'] if a['image_id'] in val_id]\r\n",
        "anno_train = [a for a in data_train['annotations'] if a['image_id'] in id_left]"
      ],
      "outputs": [],
      "execution_count": 28,
      "metadata": {
        "jupyter": {
          "source_hidden": false,
          "outputs_hidden": false
        },
        "nteract": {
          "transient": {
            "deleting": false
          }
        },
        "gather": {
          "logged": 1673604404656
        }
      }
    },
    {
      "cell_type": "code",
      "source": [
        "new_data_val = {}\r\n",
        "new_data_val['images'] = img_val\r\n",
        "new_data_val['annotations'] = anno_val\r\n",
        "new_data_val['categories'] = data_train['categories']\r\n",
        "\r\n",
        "new_data_train = {}\r\n",
        "new_data_train['images'] = img_train\r\n",
        "new_data_train['annotations'] = anno_train\r\n",
        "new_data_train['categories'] = data_train['categories']"
      ],
      "outputs": [],
      "execution_count": 35,
      "metadata": {
        "jupyter": {
          "source_hidden": false,
          "outputs_hidden": false
        },
        "nteract": {
          "transient": {
            "deleting": false
          }
        },
        "gather": {
          "logged": 1673604552346
        }
      }
    },
    {
      "cell_type": "code",
      "source": [
        "with open(root + '/coco_train_dataset.json', \"w\") as f:\r\n",
        "    json_string = json.dumps(new_data_train)\r\n",
        "    f.write(json_string)"
      ],
      "outputs": [],
      "execution_count": 37,
      "metadata": {
        "jupyter": {
          "source_hidden": false,
          "outputs_hidden": false
        },
        "nteract": {
          "transient": {
            "deleting": false
          }
        },
        "gather": {
          "logged": 1673604609752
        }
      }
    },
    {
      "cell_type": "code",
      "source": [
        "with open(root + '/coco_val_dataset.json', \"w\") as f:\r\n",
        "    json_string = json.dumps(new_data_val)\r\n",
        "    f.write(json_string)"
      ],
      "outputs": [],
      "execution_count": 36,
      "metadata": {
        "jupyter": {
          "source_hidden": false,
          "outputs_hidden": false
        },
        "nteract": {
          "transient": {
            "deleting": false
          }
        },
        "gather": {
          "logged": 1673604606888
        }
      }
    },
    {
      "cell_type": "code",
      "source": [],
      "outputs": [],
      "execution_count": null,
      "metadata": {
        "jupyter": {
          "source_hidden": false,
          "outputs_hidden": false
        },
        "nteract": {
          "transient": {
            "deleting": false
          }
        }
      }
    }
  ],
  "metadata": {
    "kernelspec": {
      "name": "python310-sdkv2",
      "language": "python",
      "display_name": "Python 3.10 - SDK V2"
    },
    "language_info": {
      "name": "python",
      "version": "3.10.4",
      "mimetype": "text/x-python",
      "codemirror_mode": {
        "name": "ipython",
        "version": 3
      },
      "pygments_lexer": "ipython3",
      "nbconvert_exporter": "python",
      "file_extension": ".py"
    },
    "kernel_info": {
      "name": "python310-sdkv2"
    },
    "microsoft": {
      "host": {
        "AzureML": {
          "notebookHasBeenCompleted": true
        }
      }
    },
    "nteract": {
      "version": "nteract-front-end@1.0.0"
    }
  },
  "nbformat": 4,
  "nbformat_minor": 2
}