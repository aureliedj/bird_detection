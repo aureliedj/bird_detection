{
  "cells": [
    {
      "cell_type": "markdown",
      "source": [
        "## Visualize annotations\r\n",
        "\r\n",
        "Reference code: https://www.neuralception.com/cocodatasetapi/"
      ],
      "metadata": {
        "nteract": {
          "transient": {
            "deleting": false
          }
        }
      }
    },
    {
      "cell_type": "code",
      "source": [
        "import os\r\n",
        "from PIL import Image\r\n",
        "import matplotlib.pyplot as plt\r\n",
        "import matplotlib.patches as patches\r\n",
        "from pycocotools.coco import COCO"
      ],
      "outputs": [],
      "execution_count": 1,
      "metadata": {
        "gather": {
          "logged": 1673592929331
        }
      }
    },
    {
      "cell_type": "code",
      "source": [
        "root = os.getcwd() + '/../data/birds/annotations'\r\n",
        "pathin = root + '/coco_annotations.json'\r\n",
        "\r\n",
        "coco=COCO(pathin)\r\n",
        " \r\n",
        "# Get list of category_ids, here [2] for bicycle\r\n",
        "category_ids = coco.getCatIds(['bird'])\r\n",
        "\r\n",
        "# Get list of image_ids which contain bicycles\r\n",
        "image_ids = coco.getImgIds(catIds=[0])\r\n",
        "print(image_ids[:5])"
      ],
      "outputs": [
        {
          "output_type": "stream",
          "name": "stdout",
          "text": "loading annotations into memory...\nDone (t=0.10s)\ncreating index...\nindex created!\n[1, 2, 3, 4, 5]\n"
        }
      ],
      "execution_count": 6,
      "metadata": {
        "jupyter": {
          "source_hidden": false,
          "outputs_hidden": false
        },
        "nteract": {
          "transient": {
            "deleting": false
          }
        },
        "gather": {
          "logged": 1673592972133
        }
      }
    },
    {
      "cell_type": "code",
      "source": [
        "anns = \r\n",
        " \r\n",
        "image_id = 196610\r\n",
        " \r\n",
        "images_path = \"./images/train2017/\"\r\n",
        "image_name = str(image_id).zfill(12)+\".jpg\" # Image names are 12 characters long\r\n",
        "image = Image.open(images_path+image_name)\r\n",
        " \r\n",
        "fig, ax = plt.subplots()\r\n",
        " \r\n",
        "# Draw boxes and add label to each box\r\n",
        "for ann in anns:\r\n",
        "    box = ann['bbox']\r\n",
        "    bb = patches.Rectangle((box[0],box[1]), box[2],box[3], linewidth=2, edgecolor=\"blue\", facecolor=\"none\")\r\n",
        "    ax.add_patch(bb)\r\n",
        " \r\n",
        "ax.imshow(image)\r\n",
        "plt.show()"
      ],
      "outputs": [],
      "execution_count": null,
      "metadata": {
        "jupyter": {
          "source_hidden": false,
          "outputs_hidden": false
        },
        "nteract": {
          "transient": {
            "deleting": false
          }
        }
      }
    }
  ],
  "metadata": {
    "kernelspec": {
      "name": "python38-azureml",
      "language": "python",
      "display_name": "Python 3.8 - AzureML"
    },
    "language_info": {
      "name": "python",
      "version": "3.8.5",
      "mimetype": "text/x-python",
      "codemirror_mode": {
        "name": "ipython",
        "version": 3
      },
      "pygments_lexer": "ipython3",
      "nbconvert_exporter": "python",
      "file_extension": ".py"
    },
    "kernel_info": {
      "name": "python38-azureml"
    },
    "nteract": {
      "version": "nteract-front-end@1.0.0"
    }
  },
  "nbformat": 4,
  "nbformat_minor": 2
}