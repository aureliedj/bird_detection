{
  "cells": [
    {
      "cell_type": "code",
      "source": [
        "import os\r\n",
        "import json\r\n",
        "import pandas as pd\r\n",
        "import numpy as np"
      ],
      "outputs": [],
      "execution_count": 1,
      "metadata": {
        "gather": {
          "logged": 1673529109059
        }
      }
    },
    {
      "cell_type": "code",
      "source": [
        "root = os.getcwd() + '/../data/birds/annotations'\r\n",
        "pathin = root + '/coco_annotations.json'\r\n",
        "\r\n",
        "with open(pathin, \"r\") as f:\r\n",
        "    data = json.load(f)"
      ],
      "outputs": [],
      "execution_count": 2,
      "metadata": {
        "jupyter": {
          "source_hidden": false,
          "outputs_hidden": false
        },
        "nteract": {
          "transient": {
            "deleting": false
          }
        },
        "gather": {
          "logged": 1673529109429
        }
      }
    },
    {
      "cell_type": "code",
      "source": [
        "img_id = [a['image_id'] for a in data['annotations']]\r\n",
        "anno_id = [a['id'] for a in data['annotations']]\r\n",
        "area = [a['area'] for a in data['annotations']]\r\n",
        "arr = np.stack([img_id,anno_id, area], axis = 1)\r\n",
        "df = pd.DataFrame(data = arr, columns = ['img_id','anno_id','box_size'])\r\n",
        "\r\n",
        "dict_img = {i['id']:i['file_name'] for i in data['images']}"
      ],
      "outputs": [],
      "execution_count": 16,
      "metadata": {
        "jupyter": {
          "source_hidden": false,
          "outputs_hidden": false
        },
        "nteract": {
          "transient": {
            "deleting": false
          }
        },
        "gather": {
          "logged": 1673529470497
        }
      }
    },
    {
      "cell_type": "code",
      "source": [
        "count_anno = df.groupby('img_id').count().reset_index()\r\n",
        "freq_df = count_anno[['img_id','anno_id']].groupby('anno_id').count().reset_index()\r\n",
        "freq_df"
      ],
      "outputs": [],
      "execution_count": null,
      "metadata": {
        "jupyter": {
          "source_hidden": false,
          "outputs_hidden": false
        },
        "nteract": {
          "transient": {
            "deleting": false
          }
        },
        "gather": {
          "logged": 1673529965096
        }
      }
    },
    {
      "cell_type": "code",
      "source": [
        "cond = count_anno['anno_id'] > 20\r\n",
        "count_anno['img_id'][cond]"
      ],
      "outputs": [
        {
          "output_type": "execute_result",
          "execution_count": 27,
          "data": {
            "text/plain": "69      70\n430    433\n431    434\n432    435\n433    436\n434    437\n435    438\n436    439\nName: img_id, dtype: int64"
          },
          "metadata": {}
        }
      ],
      "execution_count": 27,
      "metadata": {
        "jupyter": {
          "source_hidden": false,
          "outputs_hidden": false
        },
        "nteract": {
          "transient": {
            "deleting": false
          }
        },
        "gather": {
          "logged": 1673529654989
        }
      }
    },
    {
      "cell_type": "code",
      "source": [
        "for i in count_anno['img_id'][cond].values:\r\n",
        "    print(dict_img[i])"
      ],
      "outputs": [
        {
          "output_type": "stream",
          "name": "stdout",
          "text": "../../images/220429/C1_AA_ST__220429_18h10.png\n../../images/220429/C1_AP_SN__220429_20h45.png\n../../images/220429/C1_AP_SN__220429_20h46.png\n../../images/220429/C1_AP_SN__220429_20h47.png\n../../images/220429/C1_AP_SN__220429_20h48.png\n../../images/220429/C1_AP_SN__220429_20h49.png\n../../images/220429/C1_AP_SN__220429_20h50.png\n../../images/220429/C1_AP_SN__220429_20h51.png\n"
        }
      ],
      "execution_count": 28,
      "metadata": {
        "jupyter": {
          "source_hidden": false,
          "outputs_hidden": false
        },
        "nteract": {
          "transient": {
            "deleting": false
          }
        },
        "gather": {
          "logged": 1673529655771
        }
      }
    },
    {
      "cell_type": "code",
      "source": [
        "print('Number of annotations :', len(df))\r\n",
        "print('Number of images:', len(anno_count))"
      ],
      "outputs": [
        {
          "output_type": "stream",
          "name": "stdout",
          "text": "Number of annotations : 6239\nNumber of images: 2186\n"
        }
      ],
      "execution_count": 39,
      "metadata": {
        "jupyter": {
          "source_hidden": false,
          "outputs_hidden": false
        },
        "nteract": {
          "transient": {
            "deleting": false
          }
        },
        "gather": {
          "logged": 1673450466937
        }
      }
    },
    {
      "cell_type": "code",
      "source": [],
      "outputs": [],
      "execution_count": null,
      "metadata": {
        "jupyter": {
          "source_hidden": false,
          "outputs_hidden": false
        },
        "nteract": {
          "transient": {
            "deleting": false
          }
        }
      }
    }
  ],
  "metadata": {
    "kernelspec": {
      "name": "python310-sdkv2",
      "language": "python",
      "display_name": "Python 3.10 - SDK V2"
    },
    "language_info": {
      "name": "python",
      "version": "3.10.4",
      "mimetype": "text/x-python",
      "codemirror_mode": {
        "name": "ipython",
        "version": 3
      },
      "pygments_lexer": "ipython3",
      "nbconvert_exporter": "python",
      "file_extension": ".py"
    },
    "kernel_info": {
      "name": "python310-sdkv2"
    },
    "microsoft": {
      "host": {
        "AzureML": {
          "notebookHasBeenCompleted": true
        }
      }
    },
    "nteract": {
      "version": "nteract-front-end@1.0.0"
    }
  },
  "nbformat": 4,
  "nbformat_minor": 2
}