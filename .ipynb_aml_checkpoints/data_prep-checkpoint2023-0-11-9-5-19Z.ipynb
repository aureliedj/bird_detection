{
  "cells": [
    {
      "cell_type": "code",
      "source": [
        "from glob import glob\r\n",
        "import labelme2coco\r\n",
        "import os\r\n",
        "import shutil\r\n",
        "from tqdm import tqdm"
      ],
      "outputs": [],
      "execution_count": 9,
      "metadata": {
        "gather": {
          "logged": 1673427704653
        }
      }
    },
    {
      "cell_type": "markdown",
      "source": [
        "### Clean data annotations\r\n",
        "\r\n",
        "Move all the annotations file to one folder"
      ],
      "metadata": {
        "nteract": {
          "transient": {
            "deleting": false
          }
        }
      }
    },
    {
      "cell_type": "code",
      "source": [
        "data_folders = glob(os.getcwd() + '/../data/birds/annotations/all/*')\r\n",
        "data_files = glob(os.getcwd() + '/../data/birds/annotations/22*/*')\r\n",
        "len(data_folders), len(data_files)"
      ],
      "outputs": [
        {
          "output_type": "execute_result",
          "execution_count": 10,
          "data": {
            "text/plain": "(1876, 2194)"
          },
          "metadata": {}
        }
      ],
      "execution_count": 10,
      "metadata": {
        "jupyter": {
          "source_hidden": false,
          "outputs_hidden": false
        },
        "nteract": {
          "transient": {
            "deleting": false
          }
        },
        "gather": {
          "logged": 1673427706450
        }
      }
    },
    {
      "cell_type": "code",
      "source": [
        "out_fns = [f.split('/')[-1] for f in data_folders]\r\n",
        "out_dir = os.getcwd() + '/../data/birds/annotations/all'\r\n",
        "\r\n",
        "for p in tqdm(data_files):\r\n",
        "    \r\n",
        "    in_fn = p.split('/')[-1]\r\n",
        "    if in_fn not in out_fns:\r\n",
        "        print('Copy file', in_fn)\r\n",
        "        shutil.copy(p, out_dir)"
      ],
      "outputs": [
        {
          "output_type": "stream",
          "name": "stderr",
          "text": " 15%|█▍        | 321/2194 [00:39<03:04, 10.17it/s]"
        },
        {
          "output_type": "stream",
          "name": "stdout",
          "text": "Copy file C1_AA_ST__220429_10h18.json\nCopy file C1_AA_ST__220429_10h19.json\nCopy file C1_AA_ST__220429_13h10.json\nCopy file C1_AA_ST__220429_13h15.json\nCopy file C1_AA_ST__220429_13h16.json\nCopy file C1_AA_ST__220429_13h19.json\nCopy file C1_AA_ST__220429_13h20.json\nCopy file C1_AA_ST__220429_14h33.json\nCopy file C1_AA_ST__220429_14h34.json\nCopy file C1_AA_ST__220429_14h47.json\nCopy file C1_AA_ST__220429_14h48.json\nCopy file C1_AA_ST__220429_14h49.json\nCopy file C1_AA_ST__220429_14h52.json\nCopy file C1_AA_ST__220429_14h55.json\nCopy file C1_AA_ST__220429_14h57.json\nCopy file C1_AA_ST__220429_14h58.json\nCopy file C1_AA_ST__220429_14h59.json\nCopy file C1_AA_ST__220429_15h01.json\nCopy file C1_AA_ST__220429_15h04.json\nCopy file C1_AA_ST__220429_15h10.json\nCopy file C1_AA_ST__220429_15h40.json\nCopy file C1_AA_ST__220429_17h12.json\nCopy file C1_AA_ST__220429_17h13.json\nCopy file C1_AA_ST__220429_17h14.json\nCopy file C1_AA_ST__220429_17h15.json\nCopy file C1_AA_ST__220429_17h19.json\nCopy file C1_AA_ST__220429_17h21.json\nCopy file C1_AA_ST__220429_17h22.json\nCopy file C1_AA_ST__220429_17h23.json\nCopy file C1_AA_ST__220429_17h24.json\nCopy file C1_AA_ST__220429_17h25.json\nCopy file C1_AA_ST__220429_17h26.json\nCopy file C1_AA_ST__220429_17h27.json\nCopy file C1_AA_ST__220429_17h30.json\nCopy file C1_AA_ST__220429_17h31.json\nCopy file C1_AA_ST__220429_17h32.json\nCopy file C1_AA_ST__220429_17h33.json\nCopy file C1_AA_ST__220429_17h36.json\nCopy file C1_AA_ST__220429_17h40.json\nCopy file C1_AA_ST__220429_17h54.json\nCopy file C1_AA_ST__220429_17h55.json\nCopy file C1_AA_ST__220429_17h57.json\nCopy file C1_AA_ST__220429_17h58.json\nCopy file C1_AA_ST__220429_17h59.json\nCopy file C1_AA_ST__220429_18h00.json\nCopy file C1_AA_ST__220429_18h03.json\nCopy file C1_AA_ST__220429_18h04.json\nCopy file C1_AA_ST__220429_18h05.json\nCopy file C1_AA_ST__220429_18h06.json\nCopy file C1_AA_ST__220429_18h07.json\nCopy file C1_AA_ST__220429_18h08.json\nCopy file C1_AA_ST__220429_18h09.json\nCopy file C1_AA_ST__220429_18h10.json\nCopy file C1_AA_ST__220429_18h11.json\nCopy file C1_AA_ST__220429_18h12.json\nCopy file C1_AA_ST__220429_18h13.json\nCopy file C1_AA_ST__220429_18h14.json\nCopy file C1_AA_ST__220429_18h15.json\nCopy file C1_AA_ST__220429_18h16.json\nCopy file C1_AA_ST__220429_18h17.json\nCopy file C1_AA_ST__220429_18h18.json\nCopy file C1_AA_ST__220429_18h20.json\nCopy file C1_AA_ST__220429_18h21.json\nCopy file C1_AA_ST__220429_18h22.json\nCopy file C1_AA_ST__220429_18h23.json\nCopy file C1_AA_ST__220429_18h24.json\nCopy file C1_AA_ST__220429_18h25.json\nCopy file C1_AA_ST__220429_18h26.json\nCopy file C1_AA_ST__220429_18h27.json\nCopy file C1_AA_ST__220429_18h28.json\nCopy file C1_AA_ST__220429_18h29.json\nCopy file C1_AA_ST__220429_18h30.json\nCopy file C1_AA_ST__220429_18h31.json\nCopy file C1_AA_ST__220429_18h32.json\nCopy file C1_AA_ST__220429_18h34.json\nCopy file C1_AA_ST__220429_18h35.json\nCopy file C1_AA_ST__220429_18h39.json\nCopy file C1_AA_ST__220429_18h40.json\nCopy file C1_AA_ST__220429_18h41.json\nCopy file C1_AA_ST__220429_18h42.json\nCopy file C1_AA_ST__220429_18h44.json\nCopy file C1_AA_ST__220429_18h45.json\nCopy file C1_AA_ST__220429_18h46.json\nCopy file C1_AA_ST__220429_18h47.json\nCopy file C1_AA_ST__220429_18h48.json\nCopy file C1_AA_ST__220429_18h49.json\nCopy file C1_AA_ST__220429_18h53.json\nCopy file C1_AA_ST__220429_18h54.json\nCopy file C1_AA_ST__220429_18h55.json\nCopy file C1_AA_ST__220429_18h56.json\nCopy file C1_AA_ST__220429_19h03.json\nCopy file C1_AA_ST__220429_19h04.json\nCopy file C1_AA_ST__220429_19h05.json\nCopy file C1_AA_ST__220429_19h06.json\nCopy file C1_AA_ST__220429_19h08.json\nCopy file C1_AA_ST__220429_19h14.json\nCopy file C1_AA_ST__220429_19h15.json\nCopy file C1_AA_ST__220429_19h16.json\nCopy file C1_AA_ST__220429_19h17.json\nCopy file C1_AA_ST__220429_19h18.json\nCopy file C1_AA_ST__220429_19h19.json\nCopy file C1_AA_ST__220429_19h24.json\nCopy file C1_AA_ST__220429_19h26.json\nCopy file C1_AA_ST__220429_19h27.json\nCopy file C1_AA_ST__220429_19h28.json\nCopy file C1_AA_ST__220429_19h29.json\nCopy file C1_AA_ST__220429_19h31.json\nCopy file C1_AA_ST__220429_19h32.json\nCopy file C1_AA_ST__220429_19h33.json\nCopy file C1_AA_ST__220429_19h34.json\nCopy file C1_AA_ST__220429_19h35.json\nCopy file C1_AA_ST__220429_19h36.json\nCopy file C1_AA_ST__220429_19h42.json\nCopy file C1_AA_ST__220429_19h43.json\nCopy file C1_AA_ST__220429_19h44.json\nCopy file C1_AA_ST__220429_19h45.json\nCopy file C1_AA_ST__220429_19h46.json\nCopy file C1_AA_ST__220429_19h47.json\nCopy file C1_AA_ST__220429_19h48.json\nCopy file C1_AA_ST__220429_19h49.json\nCopy file C1_AA_ST__220429_19h51.json\nCopy file C1_AA_ST__220429_20h06.json\nCopy file C1_AA_ST__220429_20h07.json\nCopy file C1_AA_ST__220429_20h21.json\nCopy file C1_AP_SN__220429_06h13.json\nCopy file C1_AP_SN__220429_06h14.json\nCopy file C1_AP_SN__220429_06h15.json\nCopy file C1_AP_SN__220429_06h17.json\nCopy file C1_AP_SN__220429_06h18.json\nCopy file C1_AP_SN__220429_06h19.json\nCopy file C1_AP_SN__220429_06h20.json\nCopy file C1_AP_SN__220429_06h21.json\nCopy file C1_AP_SN__220429_06h22.json\nCopy file C1_AP_SN__220429_06h54.json\nCopy file C1_AP_SN__220429_06h55.json\nCopy file C1_AP_SN__220429_06h56.json\nCopy file C1_AP_SN__220429_07h06.json\nCopy file C1_AP_SN__220429_07h07.json\nCopy file C1_AP_SN__220429_07h09.json\nCopy file C1_AP_SN__220429_07h10.json\nCopy file C1_AP_SN__220429_07h11.json\nCopy file C1_AP_SN__220429_07h16.json\nCopy file C1_AP_SN__220429_07h17.json\nCopy file C1_AP_SN__220429_07h18.json\nCopy file C1_AP_SN__220429_07h19.json\nCopy file C1_AP_SN__220429_07h20.json\nCopy file C1_AP_SN__220429_07h21.json\nCopy file C1_AP_SN__220429_07h22.json\nCopy file C1_AP_SN__220429_07h23.json\nCopy file C1_AP_SN__220429_07h24.json\nCopy file C1_AP_SN__220429_07h25.json\nCopy file C1_AP_SN__220429_07h26.json\nCopy file C1_AP_SN__220429_07h27.json\nCopy file C1_AP_SN__220429_07h28.json\nCopy file C1_AP_SN__220429_07h29.json\nCopy file C1_AP_SN__220429_07h30.json\nCopy file C1_AP_SN__220429_07h31.json\nCopy file C1_AP_SN__220429_07h32.json\nCopy file C1_AP_SN__220429_07h33.json\nCopy file C1_AP_SN__220429_07h34.json\nCopy file C1_AP_SN__220429_07h35.json\nCopy file C1_AP_SN__220429_07h51.json\nCopy file C1_AP_SN__220429_09h01.json\nCopy file C1_AP_SN__220429_09h31.json\nCopy file C1_AP_SN__220429_10h17.json\nCopy file C1_AP_SN__220429_10h18.json\nCopy file C1_AP_SN__220429_13h23.json\nCopy file C1_AP_SN__220429_13h24.json\nCopy file C1_AP_SN__220429_13h25.json\nCopy file C1_AP_SN__220429_13h26.json\nCopy file C1_AP_SN__220429_17h37.json\nCopy file C1_AP_SN__220429_17h47.json\nCopy file C1_AP_SN__220429_18h00.json\nCopy file C1_AP_SN__220429_18h02.json\nCopy file C1_AP_SN__220429_18h03.json\nCopy file C1_AP_SN__220429_18h04.json\nCopy file C1_AP_SN__220429_18h05.json\nCopy file C1_AP_SN__220429_18h06.json\nCopy file C1_AP_SN__220429_18h07.json\nCopy file C1_AP_SN__220429_18h08.json\nCopy file C1_AP_SN__220429_18h09.json\nCopy file C1_AP_SN__220429_18h10.json\nCopy file C1_AP_SN__220429_18h11.json\nCopy file C1_AP_SN__220429_18h12.json\nCopy file C1_AP_SN__220429_18h13.json\nCopy file C1_AP_SN__220429_18h14.json\nCopy file C1_AP_SN__220429_18h15.json\nCopy file C1_AP_SN__220429_18h16.json\nCopy file C1_AP_SN__220429_18h17.json\nCopy file C1_AP_SN__220429_18h18.json\nCopy file C1_AP_SN__220429_18h19.json\nCopy file C1_AP_SN__220429_18h20.json\nCopy file C1_AP_SN__220429_18h21.json\nCopy file C1_AP_SN__220429_18h22.json\nCopy file C1_AP_SN__220429_18h23.json\nCopy file C1_AP_SN__220429_18h24.json\nCopy file C1_AP_SN__220429_18h25.json\nCopy file C1_AP_SN__220429_18h26.json\nCopy file C1_AP_SN__220429_18h27.json\nCopy file C1_AP_SN__220429_18h28.json\nCopy file C1_AP_SN__220429_18h29.json\nCopy file C1_AP_SN__220429_18h30.json\nCopy file C1_AP_SN__220429_18h31.json\nCopy file C1_AP_SN__220429_18h32.json\nCopy file C1_AP_SN__220429_18h33.json\nCopy file C1_AP_SN__220429_18h34.json\nCopy file C1_AP_SN__220429_18h35.json\nCopy file C1_AP_SN__220429_18h36.json\nCopy file C1_AP_SN__220429_18h37.json\nCopy file C1_AP_SN__220429_18h38.json\nCopy file C1_AP_SN__220429_18h39.json\nCopy file C1_AP_SN__220429_18h40.json\nCopy file C1_AP_SN__220429_18h41.json\nCopy file C1_AP_SN__220429_18h42.json\nCopy file C1_AP_SN__220429_18h43.json\nCopy file C1_AP_SN__220429_18h44.json\nCopy file C1_AP_SN__220429_18h45.json\nCopy file C1_AP_SN__220429_18h46.json\nCopy file C1_AP_SN__220429_18h47.json\nCopy file C1_AP_SN__220429_18h48.json\nCopy file C1_AP_SN__220429_18h49.json\nCopy file C1_AP_SN__220429_18h50.json\nCopy file C1_AP_SN__220429_18h51.json\nCopy file C1_AP_SN__220429_18h52.json\nCopy file C1_AP_SN__220429_18h53.json\nCopy file C1_AP_SN__220429_18h54.json\nCopy file C1_AP_SN__220429_18h55.json\nCopy file C1_AP_SN__220429_18h56.json\nCopy file C1_AP_SN__220429_18h57.json\nCopy file C1_AP_SN__220429_19h01.json\nCopy file C1_AP_SN__220429_19h02.json\nCopy file C1_AP_SN__220429_19h03.json\nCopy file C1_AP_SN__220429_19h04.json\nCopy file C1_AP_SN__220429_19h05.json\nCopy file C1_AP_SN__220429_19h06.json\nCopy file C1_AP_SN__220429_19h07.json\nCopy file C1_AP_SN__220429_19h08.json\nCopy file C1_AP_SN__220429_19h09.json\nCopy file C1_AP_SN__220429_19h10.json\nCopy file C1_AP_SN__220429_19h11.json\nCopy file C1_AP_SN__220429_19h12.json\nCopy file C1_AP_SN__220429_19h13.json\nCopy file C1_AP_SN__220429_19h14.json\nCopy file C1_AP_SN__220429_19h15.json\nCopy file C1_AP_SN__220429_19h16.json\nCopy file C1_AP_SN__220429_19h17.json\nCopy file C1_AP_SN__220429_19h19.json\nCopy file C1_AP_SN__220429_19h25.json\nCopy file C1_AP_SN__220429_19h26.json\nCopy file C1_AP_SN__220429_19h31.json\nCopy file C1_AP_SN__220429_19h32.json\nCopy file C1_AP_SN__220429_19h33.json\nCopy file C1_AP_SN__220429_19h34.json\nCopy file C1_AP_SN__220429_19h35.json\nCopy file C1_AP_SN__220429_19h36.json\nCopy file C1_AP_SN__220429_19h37.json\nCopy file C1_AP_SN__220429_19h38.json\nCopy file C1_AP_SN__220429_19h39.json\nCopy file C1_AP_SN__220429_19h40.json\nCopy file C1_AP_SN__220429_19h41.json\nCopy file C1_AP_SN__220429_19h42.json\nCopy file C1_AP_SN__220429_19h43.json\nCopy file C1_AP_SN__220429_19h44.json\nCopy file C1_AP_SN__220429_19h45.json\nCopy file C1_AP_SN__220429_19h46.json\nCopy file C1_AP_SN__220429_19h47.json\nCopy file C1_AP_SN__220429_19h58.json\nCopy file C1_AP_SN__220429_20h01.json\nCopy file C1_AP_SN__220429_20h02.json\nCopy file C1_AP_SN__220429_20h03.json\nCopy file C1_AP_SN__220429_20h04.json\nCopy file C1_AP_SN__220429_20h05.json\nCopy file C1_AP_SN__220429_20h06.json\nCopy file C1_AP_SN__220429_20h07.json\nCopy file C1_AP_SN__220429_20h08.json\nCopy file C1_AP_SN__220429_20h09.json\nCopy file C1_AP_SN__220429_20h10.json\nCopy file C1_AP_SN__220429_20h11.json\nCopy file C1_AP_SN__220429_20h12.json\nCopy file C1_AP_SN__220429_20h13.json\nCopy file C1_AP_SN__220429_20h14.json\nCopy file C1_AP_SN__220429_20h15.json\nCopy file C1_AP_SN__220429_20h16.json\nCopy file C1_AP_SN__220429_20h21.json\nCopy file C1_AP_SN__220429_20h22.json\nCopy file C1_AP_SN__220429_20h23.json\nCopy file C1_AP_SN__220429_20h24.json\nCopy file C1_AP_SN__220429_20h25.json\nCopy file C1_AP_SN__220429_20h26.json\nCopy file C1_AP_SN__220429_20h27.json\nCopy file C1_AP_SN__220429_20h28.json\nCopy file C1_AP_SN__220429_20h29.json\nCopy file C1_AP_SN__220429_20h30.json\nCopy file C1_AP_SN__220429_20h31.json\nCopy file C1_AP_SN__220429_20h32.json\nCopy file C1_AP_SN__220429_20h33.json\nCopy file C1_AP_SN__220429_20h34.json\nCopy file C1_AP_SN__220429_20h35.json\nCopy file C1_AP_SN__220429_20h39.json\nCopy file C1_AP_SN__220429_20h44.json\nCopy file C1_AP_SN__220429_20h45.json\nCopy file C1_AP_SN__220429_20h46.json\nCopy file C1_AP_SN__220429_20h47.json\nCopy file C1_AP_SN__220429_20h48.json\nCopy file C1_AP_SN__220429_20h49.json\nCopy file C1_AP_SN__220429_20h50.json\nCopy file C1_AP_SN__220429_20h51.json\nCopy file C1_AP_SN__220429_20h52.json\nCopy file C1_AP_SN__220429_20h53.json\nCopy file C1_AP_SN__220429_20h54.json\nCopy file C1_AP_SN__220429_20h55.json\nCopy file C1_AP_SN__220429_20h56.json\nCopy file C1_AP_SN__220429_20h57.json\nCopy file C1_AP_SN__220429_20h58.json\nCopy file C1_AP_SN__220429_20h59.json\nCopy file C1_AP_SN__220429_21h00.json\nCopy file C1_AP_SN__220429_21h01.json\nCopy file C1_AP_SN__220429_21h02.json\n"
        }
      ],
      "execution_count": 17,
      "metadata": {
        "jupyter": {
          "source_hidden": false,
          "outputs_hidden": false
        },
        "nteract": {
          "transient": {
            "deleting": false
          }
        },
        "gather": {
          "logged": 1673427909589
        }
      }
    },
    {
      "cell_type": "code",
      "source": [
        "# import functions\r\n",
        "from labelme2coco import get_coco_from_labelme_folder, save_json\r\n",
        "\r\n",
        "# set labelme training data directory\r\n",
        "labelme_train_folder = os.getcwd() + '/../data/birds/annotations/all'\r\n",
        "\r\n",
        "# set path for coco json to be saved\r\n",
        "export_dir = os.getcwd() + '/../data/birds'\r\n",
        "\r\n",
        "# create train coco object\r\n",
        "train_coco = get_coco_from_labelme_folder(labelme_train_folder)\r\n",
        "\r\n",
        "# export train coco json\r\n",
        "save_json(train_coco.json, export_dir+\"train.json\")\r\n"
      ],
      "outputs": [],
      "execution_count": null,
      "metadata": {
        "jupyter": {
          "source_hidden": false,
          "outputs_hidden": false
        },
        "nteract": {
          "transient": {
            "deleting": false
          }
        }
      }
    },
    {
      "cell_type": "code",
      "source": [],
      "outputs": [],
      "execution_count": null,
      "metadata": {
        "jupyter": {
          "source_hidden": false,
          "outputs_hidden": false
        },
        "nteract": {
          "transient": {
            "deleting": false
          }
        }
      }
    }
  ],
  "metadata": {
    "kernelspec": {
      "name": "python38-azureml",
      "language": "python",
      "display_name": "Python 3.8 - AzureML"
    },
    "language_info": {
      "name": "python",
      "version": "3.8.5",
      "mimetype": "text/x-python",
      "codemirror_mode": {
        "name": "ipython",
        "version": 3
      },
      "pygments_lexer": "ipython3",
      "nbconvert_exporter": "python",
      "file_extension": ".py"
    },
    "kernel_info": {
      "name": "python38-azureml"
    },
    "microsoft": {
      "host": {
        "AzureML": {
          "notebookHasBeenCompleted": true
        }
      }
    },
    "nteract": {
      "version": "nteract-front-end@1.0.0"
    }
  },
  "nbformat": 4,
  "nbformat_minor": 2
}