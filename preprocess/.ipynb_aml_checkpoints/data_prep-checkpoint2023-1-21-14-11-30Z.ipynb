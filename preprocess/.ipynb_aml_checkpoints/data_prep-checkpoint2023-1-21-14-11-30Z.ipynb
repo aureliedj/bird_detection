{
  "cells": [
    {
      "cell_type": "code",
      "execution_count": 1,
      "metadata": {
        "gather": {
          "logged": 1673613399034
        }
      },
      "outputs": [],
      "source": [
        "from glob import glob\n",
        "import labelme2coco\n",
        "import os\n",
        "import shutil\n",
        "import json\n",
        "import numpy as np\n",
        "from tqdm import tqdm"
      ]
    },
    {
      "cell_type": "markdown",
      "metadata": {
        "nteract": {
          "transient": {
            "deleting": false
          }
        }
      },
      "source": [
        "### Clean data annotations\n",
        "\n",
        "Move all the annotations file to one folder"
      ]
    },
    {
      "cell_type": "code",
      "execution_count": 2,
      "metadata": {
        "gather": {
          "logged": 1673429400780
        },
        "jupyter": {
          "outputs_hidden": false,
          "source_hidden": false
        },
        "nteract": {
          "transient": {
            "deleting": false
          }
        }
      },
      "outputs": [
        {
          "data": {
            "text/plain": [
              "(2194, 2194)"
            ]
          },
          "execution_count": 2,
          "metadata": {},
          "output_type": "execute_result"
        }
      ],
      "source": [
        "data_folders = glob(os.getcwd() + '/../data/birds/annotations/all/*')\n",
        "data_files = glob(os.getcwd() + '/../data/birds/annotations/22*/*')\n",
        "len(data_folders), len(data_files)"
      ]
    },
    {
      "cell_type": "code",
      "execution_count": null,
      "metadata": {
        "gather": {
          "logged": 1673428202713
        },
        "jupyter": {
          "outputs_hidden": false,
          "source_hidden": false
        },
        "nteract": {
          "transient": {
            "deleting": false
          }
        }
      },
      "outputs": [],
      "source": [
        "def CopyAnno(data_files, data_folders):\n",
        "\n",
        "    out_fns = [f.split('/')[-1] for f in data_folders]\n",
        "    out_dir = os.getcwd() + '/../data/birds/annotations/all'\n",
        "    n = 0\n",
        "\n",
        "    for p in tqdm(data_files):\n",
        "        in_fn = p.split('/')[-1]\n",
        "        if in_fn not in out_fns:\n",
        "            n += 1\n",
        "            shutil.copy(p, out_dir)\n",
        "    if n!=0:\n",
        "        print('Done copying', n, ' files.')\n",
        "    else:\n",
        "        print('No files copied.')"
      ]
    },
    {
      "cell_type": "markdown",
      "metadata": {
        "nteract": {
          "transient": {
            "deleting": false
          }
        }
      },
      "source": [
        "Convert filepaths to apply labelme2coco functions"
      ]
    },
    {
      "cell_type": "code",
      "execution_count": null,
      "metadata": {
        "gather": {
          "logged": 1673430175697
        },
        "jupyter": {
          "outputs_hidden": false,
          "source_hidden": false
        },
        "nteract": {
          "transient": {
            "deleting": false
          }
        }
      },
      "outputs": [],
      "source": [
        "data_folders = glob(os.getcwd() + '/../data/birds/annotations/all/*')\n",
        "\n",
        "for d in tqdm(data_folders):\n",
        "    with open(d, \"r\") as f:\n",
        "        anno_json = json.load(f)\n",
        "        anno_json['imagePath'] = anno_json['imagePath'].replace('\\\\','/')\n",
        "\n",
        "    with open(d, \"w\") as f:\n",
        "        json_string = json.dumps(anno_json)\n",
        "        f.write(json_string)"
      ]
    },
    {
      "cell_type": "code",
      "execution_count": null,
      "metadata": {
        "gather": {
          "logged": 1673433274932
        },
        "jupyter": {
          "outputs_hidden": false,
          "source_hidden": false
        },
        "nteract": {
          "transient": {
            "deleting": false
          }
        }
      },
      "outputs": [],
      "source": [
        "# import functions\n",
        "from labelme2coco import get_coco_from_labelme_folder, save_json\n",
        "\n",
        "# set labelme training data directory\n",
        "labelme_folder = os.getcwd() + '/../data/birds/annotations/all'\n",
        "\n",
        "# convert labelme annotations to coco\n",
        "out = get_coco_from_labelme_folder(labelme_folder)"
      ]
    },
    {
      "cell_type": "code",
      "execution_count": null,
      "metadata": {
        "gather": {
          "logged": 1673433297768
        },
        "jupyter": {
          "outputs_hidden": false,
          "source_hidden": false
        },
        "nteract": {
          "transient": {
            "deleting": false
          }
        }
      },
      "outputs": [],
      "source": [
        "# set path for coco json to be saved\n",
        "export_dir = os.getcwd() + '/../data/birds/'\n",
        "\n",
        "# export train coco json\n",
        "save_json(out.json, export_dir + \"coco_annotations.json\")"
      ]
    },
    {
      "cell_type": "markdown",
      "metadata": {
        "nteract": {
          "transient": {
            "deleting": false
          }
        }
      },
      "source": [
        "## Data cleaning"
      ]
    },
    {
      "cell_type": "code",
      "execution_count": 2,
      "metadata": {
        "gather": {
          "logged": 1673446128045
        },
        "jupyter": {
          "outputs_hidden": false,
          "source_hidden": false
        },
        "nteract": {
          "transient": {
            "deleting": false
          }
        }
      },
      "outputs": [],
      "source": [
        "path_in = os.getcwd() + '/../data/birds/annotations/coco_annotations.json'\n",
        "\n",
        "with open(path_in, \"r\") as f:\n",
        "    anno = json.load(f)\n"
      ]
    },
    {
      "cell_type": "code",
      "execution_count": 4,
      "metadata": {
        "gather": {
          "logged": 1673446142168
        },
        "jupyter": {
          "outputs_hidden": false,
          "source_hidden": false
        },
        "nteract": {
          "transient": {
            "deleting": false
          }
        }
      },
      "outputs": [
        {
          "data": {
            "text/plain": [
              "dict_keys(['images', 'annotations', 'categories'])"
            ]
          },
          "execution_count": 4,
          "metadata": {},
          "output_type": "execute_result"
        }
      ],
      "source": [
        "anno.keys()"
      ]
    },
    {
      "cell_type": "code",
      "execution_count": 7,
      "metadata": {
        "gather": {
          "logged": 1673446168968
        },
        "jupyter": {
          "outputs_hidden": false,
          "source_hidden": false
        },
        "nteract": {
          "transient": {
            "deleting": false
          }
        }
      },
      "outputs": [
        {
          "data": {
            "text/plain": [
              "dict_keys(['height', 'width', 'id', 'file_name'])"
            ]
          },
          "execution_count": 7,
          "metadata": {},
          "output_type": "execute_result"
        }
      ],
      "source": [
        "anno['images'][0].keys()"
      ]
    },
    {
      "cell_type": "code",
      "execution_count": 8,
      "metadata": {
        "gather": {
          "logged": 1673446178060
        },
        "jupyter": {
          "outputs_hidden": false,
          "source_hidden": false
        },
        "nteract": {
          "transient": {
            "deleting": false
          }
        }
      },
      "outputs": [
        {
          "data": {
            "text/plain": [
              "dict_keys(['iscrowd', 'image_id', 'bbox', 'segmentation', 'category_id', 'id', 'area'])"
            ]
          },
          "execution_count": 8,
          "metadata": {},
          "output_type": "execute_result"
        }
      ],
      "source": [
        "anno['annotations'][0].keys()"
      ]
    },
    {
      "cell_type": "code",
      "execution_count": 79,
      "metadata": {
        "gather": {
          "logged": 1673448448847
        },
        "jupyter": {
          "outputs_hidden": false,
          "source_hidden": false
        },
        "nteract": {
          "transient": {
            "deleting": false
          }
        }
      },
      "outputs": [
        {
          "data": {
            "text/plain": [
              "[{'id': 0, 'name': 'bird', 'supercategory': 'bird'},\n",
              " {'id': 1, 'name': 'car', 'supercategory': 'car'},\n",
              " {'id': 2, 'name': 'dog', 'supercategory': 'dog'},\n",
              " {'id': 3, 'name': 'human', 'supercategory': 'human'}]"
            ]
          },
          "execution_count": 79,
          "metadata": {},
          "output_type": "execute_result"
        }
      ],
      "source": [
        "anno['categories']"
      ]
    },
    {
      "cell_type": "markdown",
      "metadata": {
        "nteract": {
          "transient": {
            "deleting": false
          }
        }
      },
      "source": [
        "Remove the images with annotations other than bird: 'car', 'dog', 'human'.\n",
        "\n",
        "    (1) find images containing the annotations\n",
        "    (2) find if birds are on these images\n",
        "    (3) remove the annotations"
      ]
    },
    {
      "cell_type": "code",
      "execution_count": 30,
      "metadata": {
        "gather": {
          "logged": 1673446690045
        },
        "jupyter": {
          "outputs_hidden": false,
          "source_hidden": false
        },
        "nteract": {
          "transient": {
            "deleting": false
          }
        }
      },
      "outputs": [],
      "source": [
        "anno_id = [a['category_id'] for a in anno['annotations']]\n",
        "img_id = [a['image_id'] for a in anno['annotations']]"
      ]
    },
    {
      "cell_type": "code",
      "execution_count": 53,
      "metadata": {
        "gather": {
          "logged": 1673447199751
        },
        "jupyter": {
          "outputs_hidden": false,
          "source_hidden": false
        },
        "nteract": {
          "transient": {
            "deleting": false
          }
        }
      },
      "outputs": [
        {
          "name": "stdout",
          "output_type": "stream",
          "text": [
            "There are  6 annotations not bird.\n",
            "Other annotations of 3 \"car\", 1 \"dog\", 2 \"human\".\n",
            "Image IDs  [ 295  296  778 1215 1216 1525]\n"
          ]
        }
      ],
      "source": [
        "cond = [a != 0 for a in anno_id]\n",
        "print('There are ', np.count_nonzero(cond), 'annotations not bird.')\n",
        "cat, count = np.unique(np.array(anno_id)[cond], return_counts=True)\n",
        "print('Other annotations of', count[0],'\"car\",', count[1],'\"dog\",', count [2],'\"human\".')\n",
        "\n",
        "img_id_other = np.array(img_id)[cond]\n",
        "print('Image IDs ', img_id_other)"
      ]
    },
    {
      "cell_type": "code",
      "execution_count": 71,
      "metadata": {
        "gather": {
          "logged": 1673447932131
        },
        "jupyter": {
          "outputs_hidden": false,
          "source_hidden": false
        },
        "nteract": {
          "transient": {
            "deleting": false
          }
        }
      },
      "outputs": [],
      "source": [
        "## Remove Annotations other than birds\n",
        "anno_list = [a for a in anno['annotations'] if a['category_id'] == 0]\n",
        "\n",
        "## Remove images containing no annotations\n",
        "img_ids = np.unique([a['image_id'] for a in anno_list])\n",
        "img_list = [a for a in anno['images'] if a['id'] in img_ids]"
      ]
    },
    {
      "cell_type": "code",
      "execution_count": 73,
      "metadata": {
        "gather": {
          "logged": 1673447965035
        },
        "jupyter": {
          "outputs_hidden": false,
          "source_hidden": false
        },
        "nteract": {
          "transient": {
            "deleting": false
          }
        }
      },
      "outputs": [
        {
          "data": {
            "text/plain": [
              "(2194, 2186)"
            ]
          },
          "execution_count": 73,
          "metadata": {},
          "output_type": "execute_result"
        }
      ],
      "source": [
        "len(anno['images']), len(img_list)"
      ]
    },
    {
      "cell_type": "code",
      "execution_count": 78,
      "metadata": {
        "gather": {
          "logged": 1673448040864
        },
        "jupyter": {
          "outputs_hidden": false,
          "source_hidden": false
        },
        "nteract": {
          "transient": {
            "deleting": false
          }
        }
      },
      "outputs": [
        {
          "data": {
            "text/plain": [
              "(2186, 2191)"
            ]
          },
          "execution_count": 78,
          "metadata": {},
          "output_type": "execute_result"
        }
      ],
      "source": [
        "len(np.unique(img_ids)), len(np.unique(img_id))"
      ]
    },
    {
      "cell_type": "code",
      "execution_count": 82,
      "metadata": {
        "gather": {
          "logged": 1673448483692
        },
        "jupyter": {
          "outputs_hidden": false,
          "source_hidden": false
        },
        "nteract": {
          "transient": {
            "deleting": false
          }
        }
      },
      "outputs": [
        {
          "data": {
            "text/plain": [
              "{'id': 0, 'name': 'bird', 'supercategory': 'bird'}"
            ]
          },
          "execution_count": 82,
          "metadata": {},
          "output_type": "execute_result"
        }
      ],
      "source": [
        "anno['categories'][0]"
      ]
    },
    {
      "cell_type": "code",
      "execution_count": 88,
      "metadata": {
        "gather": {
          "logged": 1673448692109
        },
        "jupyter": {
          "outputs_hidden": false,
          "source_hidden": false
        },
        "nteract": {
          "transient": {
            "deleting": false
          }
        }
      },
      "outputs": [],
      "source": [
        "new_anno = {}\n",
        "new_anno['images'] = img_list\n",
        "new_anno['annotations'] = anno_list\n",
        "new_anno['categories'] = [{'id':0, 'name':'bird'}]"
      ]
    },
    {
      "cell_type": "code",
      "execution_count": 89,
      "metadata": {
        "gather": {
          "logged": 1673448693309
        },
        "jupyter": {
          "outputs_hidden": false,
          "source_hidden": false
        },
        "nteract": {
          "transient": {
            "deleting": false
          }
        }
      },
      "outputs": [],
      "source": [
        "with open(path_in, \"w\") as f:\n",
        "    json_string = json.dumps(new_anno)\n",
        "    f.write(json_string)"
      ]
    },
    {
      "cell_type": "markdown",
      "metadata": {
        "nteract": {
          "transient": {
            "deleting": false
          }
        }
      },
      "source": [
        "# Create empty annotations\n",
        "\n",
        "sourche info create null anno: https://blog.roboflow.com/missing-and-null-image-annotations/\n",
        "\n",
        "source info distribution: https://towardsdatascience.com/the-practical-guide-for-object-detection-with-yolov5-algorithm-74c04aac4843"
      ]
    },
    {
      "cell_type": "code",
      "execution_count": 3,
      "metadata": {
        "gather": {
          "logged": 1673613399460
        },
        "jupyter": {
          "outputs_hidden": false,
          "source_hidden": false
        },
        "nteract": {
          "transient": {
            "deleting": false
          }
        }
      },
      "outputs": [],
      "source": [
        "path_full= os.getcwd() + '/../data/birds/annotations/coco_annotations.json'\n",
        "path_test = os.getcwd() + '/../data/birds/annotations/coco_test_dataset.json'\n",
        "path_train = os.getcwd() + '/../data/birds/annotations/coco_train_dataset.json'\n",
        "path_val = os.getcwd() + '/../data/birds/annotations/coco_val_dataset.json'\n",
        "\n",
        "date_list = ['220430', '220508', '220502','220510']\n",
        "\n",
        "with open(path_full, \"r\") as f:\n",
        "    data = json.load(f)\n",
        "with open(path_test, \"r\") as f:\n",
        "    data_test = json.load(f)\n",
        "with open(path_train, \"r\") as f:\n",
        "    data_train = json.load(f)\n",
        "with open(path_val, \"r\") as f:\n",
        "    data_val = json.load(f)"
      ]
    },
    {
      "cell_type": "code",
      "execution_count": 4,
      "metadata": {
        "gather": {
          "logged": 1673613399860
        },
        "jupyter": {
          "outputs_hidden": false,
          "source_hidden": false
        },
        "nteract": {
          "transient": {
            "deleting": false
          }
        }
      },
      "outputs": [],
      "source": [
        "fns = [f['file_name'].split('/')[-1] for f in data['images']]\n",
        "last_id = data['images'][-1]['id']\n",
        "h_dict = {d['file_name'].split('/')[-1][:8]:d['height'] for d in data['images']}\n",
        "w_dict = {d['file_name'].split('/')[-1][:8]:d['width'] for d in data['images']}\n",
        "\n",
        "fold_dict = {'C5_AA_SD__220501':'220501_bis/',\n",
        "            'C5_AP_SN__220501':'220501_bis/',\n",
        "            'C3_AP_BF__220503':'220503_bis/',\n",
        "            'C3_AP_SD__220503':'220503_bis/',\n",
        "            'C8_AA_BF__220507':'220507_bis/',\n",
        "            'C8_AP_ST__220507':'220507_bis/',\n",
        "            'C7_AA_BF__220509':'220509_bis/',\n",
        "            'C7_AP_ST__220509':'220509_bis/',\n",
        "            'C6_AA_SD__220511':'220511_bis/',\n",
        "            'C6_AP_SN__220511':'220511_bis/'\n",
        "            }"
      ]
    },
    {
      "cell_type": "code",
      "execution_count": 6,
      "metadata": {
        "gather": {
          "logged": 1673613408728
        },
        "jupyter": {
          "outputs_hidden": false,
          "source_hidden": false
        },
        "nteract": {
          "transient": {
            "deleting": false
          }
        }
      },
      "outputs": [],
      "source": [
        "fns_all_paths = glob(os.getcwd() + '/../data/birds/images/22*/*.png')\n",
        "fns_all = [f.split('/')[-1] for f in fns_all_paths]\n",
        "fns_new = [f for f in fns_all if f not in fns]\n",
        "\n",
        "## select test dataset\n",
        "dates = [e.split('_')[-2] for e in fns_new]\n",
        "cond = [d in date_list for d in dates]\n",
        "\n",
        "## create new 'file_name'\n",
        "filenames = ['../../images/' + f.split('_')[-2]+ '/' + f for f in fns_new]\n",
        "\n",
        "for i, f in enumerate(filenames):\n",
        "    \n",
        "    if f.split('/')[-1][:-10] in fold_dict.keys():\n",
        "        new_fn_val = f.replace(f.split('_')[-2]+'/', fold_dict[f.split('/')[-1][:-10]])\n",
        "        filenames[i] = new_fn_val\n",
        "\n",
        "filenames_test = np.array(filenames)[cond]\n",
        "np.random.shuffle(filenames_test)\n",
        "\n",
        "filenames_train = np.array(filenames)[np.invert(cond)]\n",
        "np.random.shuffle(filenames_train)\n",
        "\n",
        "filenames_val = filenames_train[:-10000]\n",
        "\n",
        "filenames_train = filenames_train[:10000]"
      ]
    },
    {
      "cell_type": "code",
      "execution_count": 8,
      "metadata": {},
      "outputs": [
        {
          "data": {
            "text/plain": [
              "7196"
            ]
          },
          "execution_count": 8,
          "metadata": {},
          "output_type": "execute_result"
        }
      ],
      "source": [
        "len(filenames_test)"
      ]
    },
    {
      "cell_type": "code",
      "execution_count": 11,
      "metadata": {},
      "outputs": [],
      "source": [
        "def empty_test(fn_list, h_dict, w_dict):\n",
        "    \n",
        "    id_num = 0\n",
        "\n",
        "    print('Creating ', len(fn_list), ' new empty annotations')\n",
        "    new_dict = {'images':[],\n",
        "                'annotations':[],\n",
        "                'categories': []}\n",
        "    \n",
        "\n",
        "    for n in range(len(fn_list)):\n",
        "\n",
        "        img_dict = {}\n",
        "        id_num += 1\n",
        "        ref = fn_list[n].split('/')[-1][:8]\n",
        "\n",
        "        img_dict['height'] = h_dict[ref]\n",
        "        img_dict['width'] = w_dict[ref]\n",
        "        img_dict['id'] = id_num\n",
        "        img_dict['file_name'] = fn_list[n]\n",
        "        \n",
        "        new_dict['images'].append(img_dict)\n",
        "        \n",
        "    return new_dict"
      ]
    },
    {
      "cell_type": "markdown",
      "metadata": {
        "nteract": {
          "transient": {
            "deleting": false
          }
        }
      },
      "source": [
        "Create 10% empty annotations."
      ]
    },
    {
      "cell_type": "code",
      "execution_count": 5,
      "metadata": {
        "gather": {
          "logged": 1673613410931
        },
        "jupyter": {
          "outputs_hidden": false,
          "source_hidden": false
        },
        "nteract": {
          "transient": {
            "deleting": false
          }
        }
      },
      "outputs": [],
      "source": [
        "def empty_anno(data, fn_list, last_id, h_dict, w_dict, p):\n",
        "\n",
        "    num_anno = int(len(data['images'])*p/(1-p))\n",
        "    id_num = last_id\n",
        "\n",
        "    print('Creating ', num_anno, ' new empty annotations')\n",
        "    \n",
        "\n",
        "    for n in range(num_anno):\n",
        "\n",
        "        img_dict = {}\n",
        "        id_num += 1\n",
        "        ref = fn_list[n].split('/')[-1][:8]\n",
        "\n",
        "        img_dict['height'] = h_dict[ref]\n",
        "        img_dict['width'] = w_dict[ref]\n",
        "        img_dict['id'] = id_num\n",
        "        img_dict['file_name'] = fn_list[n]\n",
        "        \n",
        "        data['images'].append(img_dict)"
      ]
    },
    {
      "cell_type": "code",
      "execution_count": 8,
      "metadata": {
        "gather": {
          "logged": 1673613412139
        },
        "jupyter": {
          "outputs_hidden": false,
          "source_hidden": false
        },
        "nteract": {
          "transient": {
            "deleting": false
          }
        }
      },
      "outputs": [
        {
          "name": "stdout",
          "output_type": "stream",
          "text": [
            "Creating  61  new empty annotations\n",
            "Creating  431  new empty annotations\n",
            "Creating  54  new empty annotations\n"
          ]
        }
      ],
      "source": [
        "empty_anno(data_test, filenames_test, last_id, h_dict, w_dict, 0.2)\n",
        "\n",
        "last_id = data_test['images'][-1]['id']\n",
        "empty_anno(data_train, filenames_train, last_id, h_dict, w_dict, 0.2)\n",
        "\n",
        "last_id = data_train['images'][-1]['id']\n",
        "empty_anno(data_val, filenames_val, last_id, h_dict, w_dict, 0.2)"
      ]
    },
    {
      "cell_type": "code",
      "execution_count": 12,
      "metadata": {},
      "outputs": [
        {
          "name": "stdout",
          "output_type": "stream",
          "text": [
            "Creating  7196  new empty annotations\n"
          ]
        }
      ],
      "source": [
        "out_test = empty_test(filenames_test, h_dict, w_dict)"
      ]
    },
    {
      "cell_type": "code",
      "execution_count": 17,
      "metadata": {},
      "outputs": [],
      "source": [
        "out_test['categories'] = data['categories']"
      ]
    },
    {
      "cell_type": "code",
      "execution_count": 18,
      "metadata": {},
      "outputs": [],
      "source": [
        "## save new datasets\n",
        "with open(os.getcwd() + '/../data/birds/annotations/empty_test_dataset.json', \"w\") as f:\n",
        "    json_string = json.dumps(out_test)\n",
        "    f.write(json_string)"
      ]
    },
    {
      "cell_type": "code",
      "execution_count": 9,
      "metadata": {
        "gather": {
          "logged": 1673613414739
        },
        "jupyter": {
          "outputs_hidden": false,
          "source_hidden": false
        },
        "nteract": {
          "transient": {
            "deleting": false
          }
        }
      },
      "outputs": [],
      "source": [
        "## save new datasets\n",
        "with open(os.getcwd() + '/../data/birds/annotations/full_coco_test.json', \"w\") as f:\n",
        "    json_string = json.dumps(data_test)\n",
        "    f.write(json_string)\n",
        "with open(os.getcwd() + '/../data/birds/annotations/full_coco_train.json', \"w\") as f:\n",
        "    json_string = json.dumps(data_train)\n",
        "    f.write(json_string)\n",
        "with open(os.getcwd() + '/../data/birds/annotations/full_coco_val.json', \"w\") as f:\n",
        "    json_string = json.dumps(data_val)\n",
        "    f.write(json_string)"
      ]
    }
  ],
  "metadata": {
    "kernel_info": {
      "name": "python38-azureml"
    },
    "kernelspec": {
      "display_name": "Python 3.8 - AzureML",
      "language": "python",
      "name": "python38-azureml"
    },
    "language_info": {
      "codemirror_mode": {
        "name": "ipython",
        "version": 3
      },
      "file_extension": ".py",
      "mimetype": "text/x-python",
      "name": "python",
      "nbconvert_exporter": "python",
      "pygments_lexer": "ipython3",
      "version": "3.8.5"
    },
    "microsoft": {
      "host": {
        "AzureML": {
          "notebookHasBeenCompleted": true
        }
      }
    },
    "nteract": {
      "version": "nteract-front-end@1.0.0"
    }
  },
  "nbformat": 4,
  "nbformat_minor": 2
}
