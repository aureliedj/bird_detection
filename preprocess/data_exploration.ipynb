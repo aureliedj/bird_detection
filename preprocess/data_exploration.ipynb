{
  "cells": [
    {
      "cell_type": "code",
      "execution_count": 52,
      "metadata": {
        "gather": {
          "logged": 1673593418877
        }
      },
      "outputs": [],
      "source": [
        "import os\n",
        "import json\n",
        "import pandas as pd\n",
        "import numpy as np\n",
        "from glob import glob\n",
        "from pycocotools.coco import COCO"
      ]
    },
    {
      "cell_type": "code",
      "execution_count": 42,
      "metadata": {},
      "outputs": [],
      "source": [
        "def getDF(n_boxes, fns):\n",
        "    \n",
        "    date = [f.split('_')[-2] for f in fns]\n",
        "    time = [f.split('_')[-1] for f in fns]\n",
        "    cam = [int(f.split('_')[0][1]) for f in fns]\n",
        "    meth = [f.split('_')[2] for f in fns]\n",
        "    ssemis = [f.split('_')[1] for f in fns]\n",
        "    counts = n_boxes\n",
        "\n",
        "    dict_bois = {1:'oui',\n",
        "                2:'non',\n",
        "                3:'non',\n",
        "                4:'oui',\n",
        "                5:'oui',\n",
        "                6:'non',\n",
        "                7:'oui',\n",
        "                8:'non'}\n",
        "\n",
        "    dict_arro = {1:'non',\n",
        "                2:'oui',\n",
        "                3:'oui',\n",
        "                4:'non',\n",
        "                5:'non',\n",
        "                6:'oui',\n",
        "                7:'non',\n",
        "                8:'oui'}\n",
        "\n",
        "    date_semis = '220428'\n",
        "    \n",
        "    arr = np.stack([date, time, meth, counts, ssemis, date, cam, cam, cam], axis = 1)\n",
        "    df = pd.DataFrame(arr, columns = ['date', 'heure', 'methode', 'abondance', 'sous-semis','J_T', 'bois', 'arrosage', 'n°cam'])\n",
        "\n",
        "    df['arrosage'] = df['arrosage'].astype('int')\n",
        "    df['arrosage'] = df['arrosage'].map(dict_arro)\n",
        "    df['n°cam'] = df['n°cam'].astype('int')\n",
        "    df['bois'] = df['bois'].astype('int')\n",
        "    df['bois'] = df['bois'].map(dict_bois)\n",
        "\n",
        "\n",
        "    df['date'] = pd.to_datetime(df['date'], format = '%y%m%d')\n",
        "    df['J_T'] = pd.to_datetime(['220428' for i in range(len(df))], format = '%y%m%d')\n",
        "    df['J_T'] = (df['date'] - df['J_T']).dt.days\n",
        "    df['heure'] = pd.to_datetime(df['heure'], format= '%Hh%M').dt.time\n",
        "    df.loc[df['methode']=='SN', 'sous-semis'] = 'SN'\n",
        "    \n",
        "    return df"
      ]
    },
    {
      "attachments": {},
      "cell_type": "markdown",
      "metadata": {},
      "source": [
        "# Get annotations"
      ]
    },
    {
      "cell_type": "code",
      "execution_count": 45,
      "metadata": {},
      "outputs": [],
      "source": [
        "root = os.getcwd() + '/../../data/birds/annotations'\n",
        "pathin = root + '/coco_annotations.json'\n",
        "\n",
        "coco = COCO(pathin)\n",
        "img_ids = list(sorted(coco.imgs.keys()))\n",
        "\n",
        "# retrieve filenames and bird coutns from annotation file .json\n",
        "img_fns = [coco.imgs[i]['file_name'].split('/')[-1].split('.')[0] for i in img_ids]\n",
        "n_boxes = [len(coco.getAnnIds(imgIds=i)) for i in img_ids]\n",
        "\n",
        "# create dict matching the filenames to bird counts\n",
        "dict_fns = {img_fns[i]:n_boxes[i] for i in range(len(img_fns))}"
      ]
    },
    {
      "attachments": {},
      "cell_type": "markdown",
      "metadata": {},
      "source": [
        "# Initialize annotations"
      ]
    },
    {
      "cell_type": "code",
      "execution_count": 83,
      "metadata": {},
      "outputs": [],
      "source": [
        "# Get all filenames from annotated video frames\n",
        "full_fns = [p.split('/')[-1].split('.')[0]  for p in glob(root + '/../images/22*/*.png')]\n",
        "empty_boxes = np.array([0 for i in range(len(full_fns))])\n",
        "\n",
        "cond = [f in img_fns for f in full_fns]"
      ]
    },
    {
      "cell_type": "code",
      "execution_count": 84,
      "metadata": {},
      "outputs": [],
      "source": [
        "# Order bird count and replace in empty_boxes\n",
        "new_boxes = [dict_fns[full_fns[i]] for i in range(len(full_fns)) if full_fns[i] in img_fns]\n",
        "empty_boxes[cond] = new_boxes\n",
        "df_out = getDF(empty_boxes, full_fns)"
      ]
    },
    {
      "cell_type": "code",
      "execution_count": 85,
      "metadata": {},
      "outputs": [
        {
          "data": {
            "text/html": [
              "<div>\n",
              "<style scoped>\n",
              "    .dataframe tbody tr th:only-of-type {\n",
              "        vertical-align: middle;\n",
              "    }\n",
              "\n",
              "    .dataframe tbody tr th {\n",
              "        vertical-align: top;\n",
              "    }\n",
              "\n",
              "    .dataframe thead th {\n",
              "        text-align: right;\n",
              "    }\n",
              "</style>\n",
              "<table border=\"1\" class=\"dataframe\">\n",
              "  <thead>\n",
              "    <tr style=\"text-align: right;\">\n",
              "      <th></th>\n",
              "      <th>date</th>\n",
              "      <th>heure</th>\n",
              "      <th>methode</th>\n",
              "      <th>abondance</th>\n",
              "      <th>sous-semis</th>\n",
              "      <th>J_T</th>\n",
              "      <th>bois</th>\n",
              "      <th>arrosage</th>\n",
              "      <th>n°cam</th>\n",
              "    </tr>\n",
              "  </thead>\n",
              "  <tbody>\n",
              "    <tr>\n",
              "      <th>0</th>\n",
              "      <td>2022-04-29</td>\n",
              "      <td>06:00:00</td>\n",
              "      <td>ST</td>\n",
              "      <td>0</td>\n",
              "      <td>AA</td>\n",
              "      <td>1</td>\n",
              "      <td>oui</td>\n",
              "      <td>non</td>\n",
              "      <td>1</td>\n",
              "    </tr>\n",
              "    <tr>\n",
              "      <th>1</th>\n",
              "      <td>2022-04-29</td>\n",
              "      <td>06:01:00</td>\n",
              "      <td>ST</td>\n",
              "      <td>0</td>\n",
              "      <td>AA</td>\n",
              "      <td>1</td>\n",
              "      <td>oui</td>\n",
              "      <td>non</td>\n",
              "      <td>1</td>\n",
              "    </tr>\n",
              "    <tr>\n",
              "      <th>2</th>\n",
              "      <td>2022-04-29</td>\n",
              "      <td>06:02:00</td>\n",
              "      <td>ST</td>\n",
              "      <td>0</td>\n",
              "      <td>AA</td>\n",
              "      <td>1</td>\n",
              "      <td>oui</td>\n",
              "      <td>non</td>\n",
              "      <td>1</td>\n",
              "    </tr>\n",
              "    <tr>\n",
              "      <th>3</th>\n",
              "      <td>2022-04-29</td>\n",
              "      <td>06:03:00</td>\n",
              "      <td>ST</td>\n",
              "      <td>0</td>\n",
              "      <td>AA</td>\n",
              "      <td>1</td>\n",
              "      <td>oui</td>\n",
              "      <td>non</td>\n",
              "      <td>1</td>\n",
              "    </tr>\n",
              "    <tr>\n",
              "      <th>4</th>\n",
              "      <td>2022-04-29</td>\n",
              "      <td>06:04:00</td>\n",
              "      <td>ST</td>\n",
              "      <td>0</td>\n",
              "      <td>AA</td>\n",
              "      <td>1</td>\n",
              "      <td>oui</td>\n",
              "      <td>non</td>\n",
              "      <td>1</td>\n",
              "    </tr>\n",
              "  </tbody>\n",
              "</table>\n",
              "</div>"
            ],
            "text/plain": [
              "        date     heure methode abondance sous-semis  J_T bois arrosage  n°cam\n",
              "0 2022-04-29  06:00:00      ST         0         AA    1  oui      non      1\n",
              "1 2022-04-29  06:01:00      ST         0         AA    1  oui      non      1\n",
              "2 2022-04-29  06:02:00      ST         0         AA    1  oui      non      1\n",
              "3 2022-04-29  06:03:00      ST         0         AA    1  oui      non      1\n",
              "4 2022-04-29  06:04:00      ST         0         AA    1  oui      non      1"
            ]
          },
          "execution_count": 85,
          "metadata": {},
          "output_type": "execute_result"
        }
      ],
      "source": [
        "df_out.head()"
      ]
    },
    {
      "cell_type": "code",
      "execution_count": 82,
      "metadata": {},
      "outputs": [],
      "source": [
        "df_out.to_csv('output_cam_annotated.csv', index = False)"
      ]
    },
    {
      "attachments": {},
      "cell_type": "markdown",
      "metadata": {},
      "source": [
        "# Data Exploration"
      ]
    },
    {
      "cell_type": "code",
      "execution_count": null,
      "metadata": {
        "gather": {
          "logged": 1673593419930
        },
        "jupyter": {
          "outputs_hidden": false,
          "source_hidden": false
        },
        "nteract": {
          "transient": {
            "deleting": false
          }
        }
      },
      "outputs": [],
      "source": [
        "img_id = [a['image_id'] for a in data['annotations']]\n",
        "anno_id = [a['id'] for a in data['annotations']]\n",
        "area = [a['area'] for a in data['annotations']]\n",
        "arr = np.stack([img_id,anno_id, area], axis = 1)\n",
        "df = pd.DataFrame(data = arr, columns = ['img_id','anno_id','box_size'])\n",
        "\n",
        "dict_img = {i['id']:i['file_name'] for i in data['images']}"
      ]
    },
    {
      "cell_type": "code",
      "execution_count": null,
      "metadata": {
        "gather": {
          "logged": 1673593420458
        },
        "jupyter": {
          "outputs_hidden": false,
          "source_hidden": false
        },
        "nteract": {
          "transient": {
            "deleting": false
          }
        }
      },
      "outputs": [],
      "source": [
        "count_anno = df.groupby('img_id').count().reset_index()\n",
        "freq_df = count_anno[['img_id','anno_id']].groupby('anno_id').count().reset_index()\n",
        "freq_df.columns = ['Nb birds', 'Nb images']\n",
        "freq_df"
      ]
    },
    {
      "cell_type": "code",
      "execution_count": null,
      "metadata": {
        "gather": {
          "logged": 1673593421006
        },
        "jupyter": {
          "outputs_hidden": false,
          "source_hidden": false
        },
        "nteract": {
          "transient": {
            "deleting": false
          }
        }
      },
      "outputs": [],
      "source": [
        "cond = count_anno['anno_id'] > 20\n",
        "count_anno['img_id'][cond]"
      ]
    },
    {
      "cell_type": "code",
      "execution_count": null,
      "metadata": {
        "gather": {
          "logged": 1673529655771
        },
        "jupyter": {
          "outputs_hidden": false,
          "source_hidden": false
        },
        "nteract": {
          "transient": {
            "deleting": false
          }
        }
      },
      "outputs": [],
      "source": [
        "for i in count_anno['img_id'][cond].values:\n",
        "    print(dict_img[i])"
      ]
    },
    {
      "cell_type": "code",
      "execution_count": null,
      "metadata": {
        "gather": {
          "logged": 1673530845958
        },
        "jupyter": {
          "outputs_hidden": false,
          "source_hidden": false
        },
        "nteract": {
          "transient": {
            "deleting": false
          }
        }
      },
      "outputs": [],
      "source": [
        "print('Number of annotations :', len(df))\n",
        "print('Number of images:', len(count_anno))"
      ]
    },
    {
      "cell_type": "code",
      "execution_count": null,
      "metadata": {
        "jupyter": {
          "outputs_hidden": false,
          "source_hidden": false
        },
        "nteract": {
          "transient": {
            "deleting": false
          }
        }
      },
      "outputs": [],
      "source": []
    }
  ],
  "metadata": {
    "kernel_info": {
      "name": "python310-sdkv2"
    },
    "kernelspec": {
      "display_name": "azureml_py38",
      "language": "python",
      "name": "python3"
    },
    "language_info": {
      "codemirror_mode": {
        "name": "ipython",
        "version": 3
      },
      "file_extension": ".py",
      "mimetype": "text/x-python",
      "name": "python",
      "nbconvert_exporter": "python",
      "pygments_lexer": "ipython3",
      "version": "3.8.5"
    },
    "microsoft": {
      "host": {
        "AzureML": {
          "notebookHasBeenCompleted": true
        }
      }
    },
    "nteract": {
      "version": "nteract-front-end@1.0.0"
    },
    "vscode": {
      "interpreter": {
        "hash": "6d65a8c07f5b6469e0fc613f182488c0dccce05038bbda39e5ac9075c0454d11"
      }
    }
  },
  "nbformat": 4,
  "nbformat_minor": 2
}
