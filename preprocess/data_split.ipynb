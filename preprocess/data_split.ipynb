{
  "cells": [
    {
      "cell_type": "markdown",
      "metadata": {
        "nteract": {
          "transient": {
            "deleting": false
          }
        }
      },
      "source": [
        "## Split dataset\n",
        "\n",
        "Testing dataset: Cam 2 at 220430 220508 & Cam 4 at 220502 & 220510"
      ]
    },
    {
      "cell_type": "code",
      "execution_count": null,
      "metadata": {
        "gather": {
          "logged": 1673613749791
        },
        "jupyter": {
          "outputs_hidden": false,
          "source_hidden": false
        },
        "nteract": {
          "transient": {
            "deleting": false
          }
        }
      },
      "outputs": [],
      "source": [
        "import os\n",
        "import numpy as np\n",
        "import pandas as pd\n",
        "import json "
      ]
    },
    {
      "cell_type": "code",
      "execution_count": null,
      "metadata": {
        "gather": {
          "logged": 1673603247541
        },
        "jupyter": {
          "outputs_hidden": false,
          "source_hidden": false
        },
        "nteract": {
          "transient": {
            "deleting": false
          }
        }
      },
      "outputs": [],
      "source": [
        "root = os.getcwd() + '/../../data/birds/annotations'\n",
        "pathin = root + '/coco_test_dataset.json'\n",
        "date_list = ['220430', '220508', '220502','220510']\n",
        "\n",
        "with open(pathin, \"r\") as f:\n",
        "    data = json.load(f)"
      ]
    },
    {
      "cell_type": "code",
      "execution_count": null,
      "metadata": {
        "gather": {
          "logged": 1673544558764
        },
        "jupyter": {
          "outputs_hidden": false,
          "source_hidden": false
        },
        "nteract": {
          "transient": {
            "deleting": false
          }
        }
      },
      "outputs": [],
      "source": [
        "filenames = [i['file_name'].split('/')[-1] for i in data['images']]\n",
        "img_id = [i['id'] for i in data['images']]\n",
        "dates = [f.split('_')[-2] for f in filenames]\n",
        "cond = [d in date_list for d in dates]\n",
        "\n",
        "## retrieve image id\n",
        "test_img_id = np.array(img_id)[cond]\n",
        "train_img_id = np.array(img_id)[np.invert(cond)]\n",
        "\n",
        "def get_new_dataset(data, test_img_id):\n",
        "\n",
        "    img_list = [d for d in data['images'] if d['id'] in test_img_id]\n",
        "    anno_list = [d for d in data['annotations'] if d['image_id'] in test_img_id]\n",
        "\n",
        "    data_test = {}\n",
        "    data_test['images'] = img_list\n",
        "    data_test['annotations'] = anno_list\n",
        "    data_test['categories'] = data['categories']\n",
        "\n",
        "    return data_test\n",
        "\n",
        "## create new datasets\n",
        "data_test = get_new_dataset(data, test_img_id)\n",
        "data_train = get_new_dataset(data, train_img_id)"
      ]
    },
    {
      "cell_type": "code",
      "execution_count": null,
      "metadata": {},
      "outputs": [],
      "source": [
        "len(data_test['images'])"
      ]
    },
    {
      "cell_type": "code",
      "execution_count": null,
      "metadata": {
        "gather": {
          "logged": 1673545115669
        },
        "jupyter": {
          "outputs_hidden": false,
          "source_hidden": false
        },
        "nteract": {
          "transient": {
            "deleting": false
          }
        }
      },
      "outputs": [],
      "source": [
        "## save new datasets\n",
        "with open(root + '/test_empty_220510.json', \"w\") as f:\n",
        "    json_string = json.dumps(data_test)\n",
        "    f.write(json_string)"
      ]
    },
    {
      "cell_type": "code",
      "execution_count": null,
      "metadata": {
        "gather": {
          "logged": 1673604662389
        },
        "jupyter": {
          "outputs_hidden": false,
          "source_hidden": false
        },
        "nteract": {
          "transient": {
            "deleting": false
          }
        }
      },
      "outputs": [],
      "source": [
        "with open(root + '/coco_valtrain_dataset.json', \"w\") as f:\n",
        "    json_string = json.dumps(data_train)\n",
        "    f.write(json_string)"
      ]
    },
    {
      "cell_type": "markdown",
      "metadata": {
        "nteract": {
          "transient": {
            "deleting": false
          }
        }
      },
      "source": [
        "Split Train/Validation"
      ]
    },
    {
      "cell_type": "code",
      "execution_count": null,
      "metadata": {
        "gather": {
          "logged": 1673604306781
        },
        "jupyter": {
          "outputs_hidden": false,
          "source_hidden": false
        },
        "nteract": {
          "transient": {
            "deleting": false
          }
        }
      },
      "outputs": [],
      "source": [
        "with open(root + '/coco_train_dataset.json', \"r\") as f:\n",
        "    data_train = json.load(f)"
      ]
    },
    {
      "cell_type": "code",
      "execution_count": null,
      "metadata": {
        "gather": {
          "logged": 1673604308377
        },
        "jupyter": {
          "outputs_hidden": false,
          "source_hidden": false
        },
        "nteract": {
          "transient": {
            "deleting": false
          }
        }
      },
      "outputs": [],
      "source": [
        "num_val = int(len(data['images'])*0.1)\n",
        "train_id = [d['id'] for d in data_train['images']]\n",
        "np.random.shuffle(train_id)\n",
        "val_id = train_id[:num_val]\n",
        "id_left = train_id[num_val:]"
      ]
    },
    {
      "cell_type": "code",
      "execution_count": null,
      "metadata": {
        "gather": {
          "logged": 1673604404656
        },
        "jupyter": {
          "outputs_hidden": false,
          "source_hidden": false
        },
        "nteract": {
          "transient": {
            "deleting": false
          }
        }
      },
      "outputs": [],
      "source": [
        "cond = [d in val_id for d in train_id]\n",
        "\n",
        "## create new image list\n",
        "img_val = list(np.array(data_train['images'])[cond])\n",
        "img_train = list(np.array(data_train['images'])[np.invert(cond)])\n",
        "\n",
        "## create new annotations list\n",
        "anno_val = [a for a in data_train['annotations'] if a['image_id'] in val_id]\n",
        "anno_train = [a for a in data_train['annotations'] if a['image_id'] in id_left]"
      ]
    },
    {
      "cell_type": "code",
      "execution_count": null,
      "metadata": {
        "gather": {
          "logged": 1673604552346
        },
        "jupyter": {
          "outputs_hidden": false,
          "source_hidden": false
        },
        "nteract": {
          "transient": {
            "deleting": false
          }
        }
      },
      "outputs": [],
      "source": [
        "new_data_val = {}\n",
        "new_data_val['images'] = img_val\n",
        "new_data_val['annotations'] = anno_val\n",
        "new_data_val['categories'] = data_train['categories']\n",
        "\n",
        "new_data_train = {}\n",
        "new_data_train['images'] = img_train\n",
        "new_data_train['annotations'] = anno_train\n",
        "new_data_train['categories'] = data_train['categories']"
      ]
    },
    {
      "cell_type": "code",
      "execution_count": null,
      "metadata": {
        "gather": {
          "logged": 1673605665435
        },
        "jupyter": {
          "outputs_hidden": false,
          "source_hidden": false
        },
        "nteract": {
          "transient": {
            "deleting": false
          }
        }
      },
      "outputs": [],
      "source": [
        "with open(root + '/coco_train_dataset.json', \"w\") as f:\n",
        "    json_string = json.dumps(new_data_train)\n",
        "    f.write(json_string)"
      ]
    },
    {
      "cell_type": "code",
      "execution_count": null,
      "metadata": {
        "gather": {
          "logged": 1673605668328
        },
        "jupyter": {
          "outputs_hidden": false,
          "source_hidden": false
        },
        "nteract": {
          "transient": {
            "deleting": false
          }
        }
      },
      "outputs": [],
      "source": [
        "with open(root + '/coco_val_dataset.json', \"w\") as f:\n",
        "    json_string = json.dumps(new_data_val)\n",
        "    f.write(json_string)"
      ]
    },
    {
      "cell_type": "code",
      "execution_count": null,
      "metadata": {
        "gather": {
          "logged": 1673605752313
        },
        "jupyter": {
          "outputs_hidden": false,
          "source_hidden": false
        },
        "nteract": {
          "transient": {
            "deleting": false
          }
        }
      },
      "outputs": [],
      "source": [
        "len(new_data_train['images']) + len(new_data_val['images']), len(data_train['images'])"
      ]
    },
    {
      "cell_type": "markdown",
      "metadata": {
        "nteract": {
          "transient": {
            "deleting": false
          }
        }
      },
      "source": [
        "## Create sub files"
      ]
    },
    {
      "cell_type": "code",
      "execution_count": null,
      "metadata": {
        "gather": {
          "logged": 1673614489930
        },
        "jupyter": {
          "outputs_hidden": false,
          "source_hidden": false
        },
        "nteract": {
          "transient": {
            "deleting": false
          }
        }
      },
      "outputs": [],
      "source": [
        "ds_train = 'full_coco_train.json'\n",
        "ds_val = 'full_coco_val.json'\n",
        "ds_test = 'full_coco_test.json'\n"
      ]
    },
    {
      "cell_type": "code",
      "execution_count": null,
      "metadata": {
        "gather": {
          "logged": 1673614495791
        },
        "jupyter": {
          "outputs_hidden": false,
          "source_hidden": false
        },
        "nteract": {
          "transient": {
            "deleting": false
          }
        }
      },
      "outputs": [],
      "source": [
        "def get_sample(ds_name, N):\n",
        "\n",
        "    root = os.getcwd() + '/../data/birds/annotations/'\n",
        "\n",
        "    with open(root + ds_name, \"r\") as f:\n",
        "        data = json.load(f)\n",
        "    ## get images IDs\n",
        "    img_id = [d['id'] for d in data['images']]\n",
        "    np.random.shuffle(img_id)\n",
        "    ## get the new list\n",
        "    img_list = [i for i in data['images'] if i['id'] in img_id[:N]]\n",
        "    anno_list = [a for a in data['annotations'] if a['image_id'] in img_id[:N]]\n",
        "\n",
        "    new_file = {}\n",
        "    new_file['images'] = img_list\n",
        "    new_file['annotations'] = anno_list\n",
        "    new_file['categories'] = data['categories']\n",
        "\n",
        "    with open(root + 'sub_' + ds_name, \"w\") as f:\n",
        "        json_string = json.dumps(new_file)\n",
        "        f.write(json_string)\n",
        "\n"
      ]
    },
    {
      "cell_type": "code",
      "execution_count": null,
      "metadata": {
        "gather": {
          "logged": 1673614651084
        },
        "jupyter": {
          "outputs_hidden": false,
          "source_hidden": false
        },
        "nteract": {
          "transient": {
            "deleting": false
          }
        }
      },
      "outputs": [],
      "source": [
        "get_sample(ds_val, 10)"
      ]
    },
    {
      "cell_type": "code",
      "execution_count": null,
      "metadata": {
        "jupyter": {
          "outputs_hidden": false,
          "source_hidden": false
        },
        "nteract": {
          "transient": {
            "deleting": false
          }
        }
      },
      "outputs": [],
      "source": []
    }
  ],
  "metadata": {
    "kernel_info": {
      "name": "python310-sdkv2"
    },
    "kernelspec": {
      "display_name": "azureml_py38",
      "language": "python",
      "name": "python3"
    },
    "language_info": {
      "codemirror_mode": {
        "name": "ipython",
        "version": 3
      },
      "file_extension": ".py",
      "mimetype": "text/x-python",
      "name": "python",
      "nbconvert_exporter": "python",
      "pygments_lexer": "ipython3",
      "version": "3.8.5 (default, Sep  4 2020, 07:30:14) \n[GCC 7.3.0]"
    },
    "microsoft": {
      "host": {
        "AzureML": {
          "notebookHasBeenCompleted": true
        }
      }
    },
    "nteract": {
      "version": "nteract-front-end@1.0.0"
    },
    "vscode": {
      "interpreter": {
        "hash": "6d65a8c07f5b6469e0fc613f182488c0dccce05038bbda39e5ac9075c0454d11"
      }
    }
  },
  "nbformat": 4,
  "nbformat_minor": 2
}
