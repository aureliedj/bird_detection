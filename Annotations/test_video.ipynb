{
 "cells": [
  {
   "cell_type": "markdown",
   "metadata": {},
   "source": [
    "#### Convert Video type to images sequence\n",
    "\n",
    "Deal with .AVI files from timelapse data\n",
    "\n",
    "nombre d'images : 1020\n",
    "\n",
    "1 image par minute\n"
   ]
  },
  {
   "cell_type": "code",
   "execution_count": 1,
   "metadata": {},
   "outputs": [],
   "source": [
    "import cv2 \n",
    "import numpy as np\n",
    "import matplotlib.pyplot as plt\n",
    "from utils_annotation import getListImg\n",
    "from utils_annotation import saveFrames"
   ]
  },
  {
   "cell_type": "code",
   "execution_count": 2,
   "metadata": {},
   "outputs": [],
   "source": [
    "path = r'C:\\Users\\aurel\\Desktop\\video_oiseaux_cam2\\Data\\TLC00020.AVI'\n",
    "\n",
    "#Takes around 11s for 1 file\n",
    "frames, count = getListImg(path)\n",
    "\n",
    "img0 = cv2.imread(r'C:\\Users\\aurel\\Desktop\\video_oiseaux_cam2\\t0_TLC00020.jpg')\n",
    "img1 = cv2.imread(r'C:\\Users\\aurel\\Desktop\\video_oiseaux_cam2\\t1_TLC00020.jpg')\n",
    "img2 = cv2.imread(r'C:\\Users\\aurel\\Desktop\\video_oiseaux_cam2\\t00_TLC00020.jpg')\n",
    "plt.imshow(img2)"
   ]
  },
  {
   "cell_type": "code",
   "execution_count": null,
   "metadata": {},
   "outputs": [],
   "source": [
    "dif = img0 - img1\n",
    "plt.imshow(dif)"
   ]
  },
  {
   "cell_type": "code",
   "execution_count": null,
   "metadata": {},
   "outputs": [],
   "source": [
    "mask_dif = np.sum(dif, axis=2)/3\n",
    "plt.imshow(mask_dif.astype('uint'), cmap='gray')"
   ]
  },
  {
   "cell_type": "code",
   "execution_count": null,
   "metadata": {},
   "outputs": [],
   "source": [
    "import tensorflow as tf\n",
    "model_dir = r'C:\\Users\\aurel\\Desktop\\video_oiseaux_cam2\\faster_rcnn_inception_resnet_v2_1024x1024_coco17_tpu-8\\saved_model'\n",
    "# load model from path\n",
    "model= tf.saved_model.load(model_dir)\n"
   ]
  },
  {
   "cell_type": "code",
   "execution_count": null,
   "metadata": {},
   "outputs": [],
   "source": [
    "# read image and preprocess\n",
    "img = cv2.cvtColor(img0, cv2.COLOR_BGR2RGB)\n",
    "img = img[200:-20, 200:, :]\n",
    "input_tensor = np.expand_dims(img, 0)\n",
    "\n",
    "# predict from model\n",
    "resp = model(input_tensor)"
   ]
  },
  {
   "cell_type": "code",
   "execution_count": null,
   "metadata": {},
   "outputs": [],
   "source": [
    "class_names = {\n",
    "    1:'person',\n",
    "    3:'car',\n",
    "    6:'bus',\n",
    "    8:'truck',\n",
    "    9:'boat',\n",
    "    16:'bird'\n",
    "}\n",
    "\n",
    "h, w, z = img.shape"
   ]
  },
  {
   "cell_type": "code",
   "execution_count": null,
   "metadata": {},
   "outputs": [],
   "source": [
    "# iterate over boxes, class_index and score list\n",
    "for boxes, classes, scores in zip(resp['detection_boxes'].numpy(), resp['detection_classes'], resp['detection_scores'].numpy()):\n",
    "    for box, cls, score in zip(boxes, classes, scores):\n",
    "        if score > 0.05: \n",
    "            ymin = int(box[0] * h)\n",
    "            xmin = int(box[1] * w)\n",
    "            ymax = int(box[2] * h)\n",
    "            xmax = int(box[3] * w)\n",
    "            cv2.putText(img, class_names[int(cls)], (xmin, ymin-10), cv2.FONT_HERSHEY_SIMPLEX, 1, (255, 0, 0), 1)\n",
    "            cv2.rectangle(img, (xmin, ymin), (xmax, ymax), (128, 0, 128), 1)"
   ]
  },
  {
   "cell_type": "code",
   "execution_count": null,
   "metadata": {},
   "outputs": [],
   "source": [
    "# convert back to bgr and save image\n",
    "cv2.imwrite(r'C:\\Users\\aurel\\Desktop\\video_oiseaux_cam2\\output_zoom.png', cv2.cvtColor(img, cv2.COLOR_RGB2BGR))"
   ]
  },
  {
   "cell_type": "code",
   "execution_count": null,
   "metadata": {},
   "outputs": [],
   "source": [
    "plt.imshow(img)"
   ]
  }
 ],
 "metadata": {
  "interpreter": {
   "hash": "037a5f9406e393955b3a09607cf05427851b85aeddb4d19073bd660e76b67716"
  },
  "kernelspec": {
   "display_name": "Python 3.8.5 ('work')",
   "language": "python",
   "name": "python3"
  },
  "language_info": {
   "codemirror_mode": {
    "name": "ipython",
    "version": 3
   },
   "file_extension": ".py",
   "mimetype": "text/x-python",
   "name": "python",
   "nbconvert_exporter": "python",
   "pygments_lexer": "ipython3",
   "version": "3.8.5"
  },
  "orig_nbformat": 4
 },
 "nbformat": 4,
 "nbformat_minor": 2
}
