{
 "cells": [
  {
   "cell_type": "code",
   "execution_count": 7,
   "metadata": {},
   "outputs": [],
   "source": [
    "import cv2\n",
    "import numpy as np\n",
    "from glob import glob\n",
    "from utils_annotation import getImgAnno, getAnno, saveFrames\n",
    "import pandas as pd"
   ]
  },
  {
   "cell_type": "code",
   "execution_count": null,
   "metadata": {},
   "outputs": [],
   "source": [
    "#SAVE FRAMES FROM VIDEO\n",
    "path = path = r'C:\\Users\\aurel\\Desktop\\video_oiseaux_cam2\\Data\\TLC00020.AVI'\n",
    "outpath = r'D:\\Aurelie\\cam2\\TLC00020'\n",
    "filename = 'C2_TLC00020'\n",
    "Y, m, d = 2021, 5, 12\n",
    "\n",
    "#fn_list = saveFrames(path, outpath, filename, Y, m, d)"
   ]
  },
  {
   "cell_type": "code",
   "execution_count": 2,
   "metadata": {},
   "outputs": [],
   "source": [
    "#Initialization\n",
    "coco_data = {\n",
    "    \"info\": {},\n",
    "    \"licenses\": [],\n",
    "    \"images\": [],\n",
    "    \"annotations\": [],\n",
    "    \"categories\": [], #<-- Not in Captions annotations\n",
    "    \"segment_info\": [] #<-- Only in Panoptic annotations\n",
    "    }\n",
    "\n",
    "#INFO\n",
    "coco_data['info'] ={\n",
    "    \"description\": \"GEODE dataset\",\n",
    "    \"url\": \"\",\n",
    "    \"version\": \"1.0\",\n",
    "    \"year\": 2021,\n",
    "    \"contributor\": \"Agroscope\",\n",
    "    \"date_created\": \"2022/03/07\"\n",
    "    }\n",
    "\n",
    "#IMAGES\n",
    "img_paths = glob('D:/Aurelie/cam2/TLC00020/*.png')\n",
    "anno_img = getImgAnno(img_paths, [], 2200001)\n",
    "coco_data['images'] = anno_img\n",
    "\n",
    "#ANNOTATIONS\n",
    "\n",
    "#CATEGORIES\n",
    "coco_data['categories'] = [{\n",
    "    'id':1,\n",
    "    'name':'bird'\n",
    "    }]"
   ]
  },
  {
   "cell_type": "code",
   "execution_count": 3,
   "metadata": {},
   "outputs": [],
   "source": [
    "pathin = r'C:\\Users\\aurel\\Desktop\\video_oiseaux_cam2\\Data\\Markers_cam2_TLC00020.csv'\n",
    "df_anno = getAnno(pathin, coco_data['images'])"
   ]
  },
  {
   "cell_type": "code",
   "execution_count": 5,
   "metadata": {},
   "outputs": [],
   "source": [
    "df_anno.to_csv(r'C:\\Users\\aurel\\Desktop\\video_oiseaux_cam2\\Data\\bird_labels.csv',index=False)"
   ]
  },
  {
   "cell_type": "code",
   "execution_count": null,
   "metadata": {},
   "outputs": [],
   "source": []
  }
 ],
 "metadata": {
  "interpreter": {
   "hash": "037a5f9406e393955b3a09607cf05427851b85aeddb4d19073bd660e76b67716"
  },
  "kernelspec": {
   "display_name": "Python 3.8.5 ('work')",
   "language": "python",
   "name": "python3"
  },
  "language_info": {
   "codemirror_mode": {
    "name": "ipython",
    "version": 3
   },
   "file_extension": ".py",
   "mimetype": "text/x-python",
   "name": "python",
   "nbconvert_exporter": "python",
   "pygments_lexer": "ipython3",
   "version": "3.8.5"
  },
  "orig_nbformat": 4
 },
 "nbformat": 4,
 "nbformat_minor": 2
}
